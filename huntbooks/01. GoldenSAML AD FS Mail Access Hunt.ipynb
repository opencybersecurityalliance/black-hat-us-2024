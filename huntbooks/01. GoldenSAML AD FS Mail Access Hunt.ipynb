{
 "cells": [
  {
   "attachments": {
    "GoldenSAML__blackhat%284%29.svg": {
     "image/svg+xml": [
      "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"
     ]
    }
   },
   "cell_type": "markdown",
   "id": "dd18bafd",
   "metadata": {},
   "source": [
    "# Golden SAML AD FS Mail Access Hunt\n",
    "\n",
    "### Scope the Environment\n",
    "- Identity Provider (IdP) -  On-Prem Active Directory Federation Services (AD FS) server w/ Azure AD Connect\n",
    "- Cloud Service Provider (SP) - Microsoft 365 (Mail, Defender)\n",
    "- On-Prem Workstations\n",
    "\n",
    "### Dataset\n",
    "https://securitydatasets.com/notebooks/compound/GoldenSAMLADFSMailAccess.html\n",
    "- WindowsEvents.Zip\n",
    "- Microsoft365DefenderEvents.Zip\n",
    "- AADAuditEvents.Zip\n",
    "- OfficeActivityEvents.Zip\n",
    "\n",
    "#### Simple Data Ingestion\n",
    "\n",
    "All data is unzipped and loaded to two SQlite stores (SQL-supported lakehouse simulation) using [kestrel-tool::mkdb](https://github.com/opencybersecurityalliance/kestrel-lang/blob/develop/packages/kestrel_tool/src/kestrel_tool/mkdb.py)\n",
    "\n",
    "#### Simulated On-premise Datastore `sqlite:///onpremise.db`\n",
    "\n",
    "| Data File | Datastore Index | Kestrel Datasource | ........................................................................................................................................................................ |\n",
    "| :------- | :------ | :------ | ------- |\n",
    "| WindowsEvents.Zip | windows | GoldenSAML-WindowsEvents ||\n",
    "\n",
    "#### Simulated Cloud Datastore `sqlite:///cloud.db`\n",
    "\n",
    "| Data File | Datastore Index | Kestrel Datasource | .............................................................................................................................. |\n",
    "| :------- | :------ | :------ | ------- |\n",
    "| Microsoft365DefenderEvents.Zip | msdefender | GoldenSAML-Microsoft365DefenderEvents||\n",
    "| AADAuditEvents.Zip | aad | GoldenSAML-AADAuditEvents ||\n",
    "| OfficeActivityEvents.Zip | office | GoldenSAML-OfficeActivityEvents||\n",
    "\n",
    "### Campaign Hypothesis\n",
    "Cyber Threat Actor (CTA) will compromise the organization's identity provider (AD FS) and attempt to obtain the private key used for signing SAML tokens, to then forge a valid SAML token that will impersonate a legitimate user to access sensitive data hosted by the organization's cloud service provider (Microsoft 365). \n",
    "\n",
    "#### Mitre Att&ck Mapping\n",
    "![GoldenSAML__blackhat%284%29.svg](attachment:GoldenSAML__blackhat%284%29.svg)\n",
    "\n",
    "## Steps in This Huntbook\n",
    "\n",
    "1. Read the [GoldenSAML blog](https://www.cyberark.com/resources/threat-research-blog/golden-saml-newly-discovered-attack-technique-forges-authentication-to-cloud-apps) to understand the generic attack flow\n",
    "2. Develop the threat hypothesis around the [SimuLand GoldenSAML attack simulation](https://simulandlabs.com/labs/GoldenSAML/README.html)\n",
    "3. Using the blog, attack simulation, and Mitre mapping above, develop hunt analytics around:\n",
    "    - [T1003 - OS Credential Dumping](https://attack.mitre.org/techniques/T1003/)\n",
    "    - [T1087.002 - Account Discovery: Domain Account](https://attack.mitre.org/techniques/T1087/002/)\n",
    "    - [T1098.002: Additional Email Delegate Permissions](https://attack.mitre.org/techniques/T1098/002/)\n",
    "    - [T1134: Access Token Manipulation](https://attack.mitre.org/techniques/T1134/)\n",
    "    - [T1552.004 - Unsecured Credentials: Private Keys](https://attack.mitre.org/techniques/T1552/004/)\n",
    "4. Move across multiple data sources to verify different phases of the attack from multiple angles (already written in this huntbook)\n",
    "5. **Execute this huntbook and report your findings**\n",
    "6. Further drill down\n",
    "    - Add new cells in this huntbook to explore other paths of the hunt\n",
    "    - Explore other aspects of the attack with any *[Quiz]* huntbook in the same folder\n",
    "    - Check the *Kestrel Execution Explained* huntbook to get a basic idea of the Kestrel abstraction"
   ]
  },
  {
   "cell_type": "code",
   "execution_count": 1,
   "id": "64b1947a",
   "metadata": {},
   "outputs": [
    {
     "data": {
      "text/html": [
       "<table border=\"1\" class=\"dataframe\">\n",
       "  <thead>\n",
       "    <tr style=\"text-align: right;\">\n",
       "      <th>event_id</th>\n",
       "      <th>type_name</th>\n",
       "    </tr>\n",
       "  </thead>\n",
       "  <tbody>\n",
       "    <tr>\n",
       "      <td>412</td>\n",
       "      <td>412</td>\n",
       "    </tr>\n",
       "    <tr>\n",
       "      <td>501</td>\n",
       "      <td>Desktop Window Manager is experiencing heavy resource contention</td>\n",
       "    </tr>\n",
       "    <tr>\n",
       "      <td>4624</td>\n",
       "      <td>An account was successfully logged on</td>\n",
       "    </tr>\n",
       "    <tr>\n",
       "      <td>33205</td>\n",
       "      <td>SQL audit event</td>\n",
       "    </tr>\n",
       "    <tr>\n",
       "      <td>4662</td>\n",
       "      <td>An operation was performed on an object</td>\n",
       "    </tr>\n",
       "    <tr>\n",
       "      <td>18</td>\n",
       "      <td>Pipe connected</td>\n",
       "    </tr>\n",
       "    <tr>\n",
       "      <td>5156</td>\n",
       "      <td>The Windows Filtering Platform has permitted a connection</td>\n",
       "    </tr>\n",
       "  </tbody>\n",
       "</table>"
      ]
     },
     "metadata": {},
     "output_type": "display_data"
    }
   ],
   "source": [
    "# Let's first understand what data we have available in our datasets\n",
    "# `type_uid` is a required attribute of OCSF event/activity\n",
    "# type_uid LIKE '%' means any event\n",
    "\n",
    "win_events = GET event FROM sqlalchemy://GoldenSAML-WindowsEvents\n",
    "             WHERE type_uid LIKE '%'\n",
    "             START 2021-08-02T00:00:00.000Z STOP 2021-08-03T00:00:00.000Z\n",
    "\n",
    "# We use customized OCSF field `event_id` for holding raw event id (if exist in source)\n",
    "# We use OCSF field `type_name` for holding event name\n",
    "\n",
    "DISP win_events ATTR event_id, type_name"
   ]
  },
  {
   "cell_type": "code",
   "execution_count": 2,
   "id": "ba5b7a7d",
   "metadata": {},
   "outputs": [
    {
     "data": {
      "text/html": [
       "<table border=\"1\" class=\"dataframe\">\n",
       "  <thead>\n",
       "    <tr style=\"text-align: right;\">\n",
       "      <th>type_name</th>\n",
       "    </tr>\n",
       "  </thead>\n",
       "  <tbody>\n",
       "    <tr>\n",
       "      <td>LdapSearch</td>\n",
       "    </tr>\n",
       "    <tr>\n",
       "      <td>Directory Services replication</td>\n",
       "    </tr>\n",
       "    <tr>\n",
       "      <td>MailItemsAccessed</td>\n",
       "    </tr>\n",
       "    <tr>\n",
       "      <td>Add delegated permission grant.</td>\n",
       "    </tr>\n",
       "  </tbody>\n",
       "</table>"
      ]
     },
     "metadata": {},
     "output_type": "display_data"
    }
   ],
   "source": [
    "mde_events = GET event FROM sqlalchemy://GoldenSAML-Microsoft365DefenderEvents\n",
    "             WHERE type_uid LIKE '%'\n",
    "             START 2021-08-02T00:00:00.000Z STOP 2021-08-03T00:00:00.000Z\n",
    " \n",
    "DISP mde_events ATTR type_name"
   ]
  },
  {
   "cell_type": "code",
   "execution_count": 3,
   "id": "328247e3",
   "metadata": {},
   "outputs": [
    {
     "data": {
      "text/html": [
       "<table border=\"1\" class=\"dataframe\">\n",
       "  <thead>\n",
       "    <tr style=\"text-align: right;\">\n",
       "      <th>type_name</th>\n",
       "    </tr>\n",
       "  </thead>\n",
       "  <tbody>\n",
       "    <tr>\n",
       "      <td>Update application – Certificates and secrets management</td>\n",
       "    </tr>\n",
       "    <tr>\n",
       "      <td>Update application</td>\n",
       "    </tr>\n",
       "    <tr>\n",
       "      <td>Add delegated permission grant</td>\n",
       "    </tr>\n",
       "  </tbody>\n",
       "</table>"
      ]
     },
     "metadata": {},
     "output_type": "display_data"
    }
   ],
   "source": [
    "aad_events = GET event FROM sqlalchemy://GoldenSAML-AADAuditEvents\n",
    "             WHERE type_uid LIKE '%'\n",
    "             START 2021-08-02T00:00:00.000Z STOP 2021-08-03T00:00:00.000Z\n",
    "\n",
    "DISP aad_events ATTR type_name"
   ]
  },
  {
   "cell_type": "code",
   "execution_count": 4,
   "id": "e4e56c3f",
   "metadata": {},
   "outputs": [
    {
     "data": {
      "text/html": [
       "<table border=\"1\" class=\"dataframe\">\n",
       "  <thead>\n",
       "    <tr style=\"text-align: right;\">\n",
       "      <th>type_name</th>\n",
       "    </tr>\n",
       "  </thead>\n",
       "  <tbody>\n",
       "    <tr>\n",
       "      <td>MailItemsAccessed</td>\n",
       "    </tr>\n",
       "  </tbody>\n",
       "</table>"
      ]
     },
     "metadata": {},
     "output_type": "display_data"
    }
   ],
   "source": [
    "office_events = GET event FROM sqlalchemy://GoldenSAML-OfficeActivityEvents\n",
    "                WHERE type_uid LIKE '%'\n",
    "                START 2021-08-02T00:00:00.000Z STOP 2021-08-03T00:00:00.000Z\n",
    "\n",
    "DISP office_events ATTR type_name"
   ]
  },
  {
   "cell_type": "markdown",
   "id": "cf26e7fc",
   "metadata": {},
   "source": [
    "Now that we know what type of events we have available to use.  Let's see how these events apply to the attack\n",
    "steps that were broken down in [Simulandlabs Golden SAML Overview](https://simulandlabs.com/labs/GoldenSAML/README.html).\n",
    "\n",
    "The steps show that the actor would need to:\n",
    "- Export the AD FS Configuration\n",
    "- Export the AD FS DKM Master Key to decrypt the private key\n",
    "- Export the AD FS Certificates\n",
    "- Forge the SAML Tokens\n",
    "- Get OAuth Access Token with SAML Assertion\n",
    "- Finally, access mail messages using MS Graph\n",
    "\n",
    "\n",
    "A few of these steps we may not be able to see because they can be conducted locally on the attacker's system.  Let's see what we can identify!!\n",
    "\n",
    "Let's start by looking for any activity around the AD FS configuration.  Doing a quick Google search shows us that\n",
    "[configuration](https://learn.microsoft.com/en-us/windows-server/identity/ad-fs/technical-reference/the-role-of-the-ad-fs-configuration-database) resides in the Windows Internal Database (WID) or a SQL Server.\n",
    "\n",
    "What events can we see that might point us towards a database?\n",
    "\n",
    "Windows Event ID [33205](https://www.ultimatewindowssecurity.com/sqlserver/auditlog/sampleevent.aspx) shows us SQL Server Audit events."
   ]
  },
  {
   "cell_type": "code",
   "execution_count": 5,
   "id": "61b90f13",
   "metadata": {},
   "outputs": [
    {
     "data": {
      "text/html": [
       "<table border=\"1\" class=\"dataframe\">\n",
       "  <thead>\n",
       "    <tr style=\"text-align: right;\">\n",
       "      <th>time</th>\n",
       "      <th>device.hostname</th>\n",
       "      <th>file.endpoint.hostname</th>\n",
       "      <th>process.endpoint.hostname</th>\n",
       "      <th>user.endpoint.hostname</th>\n",
       "      <th>actor.process.endpoint.hostname</th>\n",
       "      <th>device.uid</th>\n",
       "      <th>file.endpoint.uid</th>\n",
       "      <th>process.endpoint.uid</th>\n",
       "      <th>user.endpoint.uid</th>\n",
       "      <th>actor.process.endpoint.uid</th>\n",
       "      <th>file.type_id</th>\n",
       "      <th>type_uid</th>\n",
       "      <th>event_id</th>\n",
       "      <th>type_name</th>\n",
       "    </tr>\n",
       "  </thead>\n",
       "  <tbody>\n",
       "    <tr>\n",
       "      <td>2021-08-02T13:05:33.483Z</td>\n",
       "      <td>adfs01.simulandlabs.com</td>\n",
       "      <td>adfs01.simulandlabs.com</td>\n",
       "      <td>adfs01.simulandlabs.com</td>\n",
       "      <td>adfs01.simulandlabs.com</td>\n",
       "      <td>adfs01.simulandlabs.com</td>\n",
       "      <td>/subscriptions/00000000-0000-0000-0000-000000000000/resourcegroups/azhybrid/providers/microsoft.compute/virtualmachines/adfs01</td>\n",
       "      <td>/subscriptions/00000000-0000-0000-0000-000000000000/resourcegroups/azhybrid/providers/microsoft.compute/virtualmachines/adfs01</td>\n",
       "      <td>/subscriptions/00000000-0000-0000-0000-000000000000/resourcegroups/azhybrid/providers/microsoft.compute/virtualmachines/adfs01</td>\n",
       "      <td>/subscriptions/00000000-0000-0000-0000-000000000000/resourcegroups/azhybrid/providers/microsoft.compute/virtualmachines/adfs01</td>\n",
       "      <td>/subscriptions/00000000-0000-0000-0000-000000000000/resourcegroups/azhybrid/providers/microsoft.compute/virtualmachines/adfs01</td>\n",
       "      <td>33205</td>\n",
       "      <td>600500</td>\n",
       "      <td>33205</td>\n",
       "      <td>SQL audit event</td>\n",
       "    </tr>\n",
       "  </tbody>\n",
       "</table>"
      ]
     },
     "metadata": {},
     "output_type": "display_data"
    }
   ],
   "source": [
    "# Let's write a query to view all events from Event ID 33205\n",
    "\n",
    "sql_events = GET event FROM sqlalchemy://GoldenSAML-WindowsEvents\n",
    "             WHERE event_id = 33205\n",
    "             \n",
    "DISP sql_events"
   ]
  },
  {
   "cell_type": "markdown",
   "id": "37da5e3d",
   "metadata": {},
   "source": [
    "There is not alot of information from this event but we can see that some action happened on our `adfs01` host.\n",
    "\n",
    "Let's see if there are other events around that host. "
   ]
  },
  {
   "cell_type": "code",
   "execution_count": 6,
   "id": "1f72f69f",
   "metadata": {},
   "outputs": [
    {
     "data": {
      "text/html": [
       "<table border=\"1\" class=\"dataframe\">\n",
       "  <thead>\n",
       "    <tr style=\"text-align: right;\">\n",
       "      <th>name</th>\n",
       "      <th>pid</th>\n",
       "      <th>endpoint.hostname</th>\n",
       "    </tr>\n",
       "  </thead>\n",
       "  <tbody>\n",
       "    <tr>\n",
       "      <td>None</td>\n",
       "      <td></td>\n",
       "      <td>adfs01.simulandlabs.com</td>\n",
       "    </tr>\n",
       "    <tr>\n",
       "      <td>powershell.exe</td>\n",
       "      <td>5692.0</td>\n",
       "      <td>adfs01.simulandlabs.com</td>\n",
       "    </tr>\n",
       "  </tbody>\n",
       "</table>"
      ]
     },
     "metadata": {},
     "output_type": "display_data"
    }
   ],
   "source": [
    "procs = FIND process RESPONDED win_events\n",
    "        WHERE device.hostname LIKE \"%adfs01%\"\n",
    "\n",
    "DISP procs ATTR name, pid, endpoint.hostname"
   ]
  },
  {
   "cell_type": "markdown",
   "id": "e40c9acf",
   "metadata": {},
   "source": [
    "There is a powershell process that's running on `adfs01`. Let's see what that process is doing."
   ]
  },
  {
   "cell_type": "code",
   "execution_count": 7,
   "id": "983fd1a5",
   "metadata": {},
   "outputs": [
    {
     "data": {
      "text/html": [
       "<table border=\"1\" class=\"dataframe\">\n",
       "  <thead>\n",
       "    <tr style=\"text-align: right;\">\n",
       "      <th>time</th>\n",
       "      <th>device.hostname</th>\n",
       "      <th>file.endpoint.hostname</th>\n",
       "      <th>process.endpoint.hostname</th>\n",
       "      <th>user.endpoint.hostname</th>\n",
       "      <th>actor.process.endpoint.hostname</th>\n",
       "      <th>device.uid</th>\n",
       "      <th>file.endpoint.uid</th>\n",
       "      <th>process.endpoint.uid</th>\n",
       "      <th>user.endpoint.uid</th>\n",
       "      <th>actor.process.endpoint.uid</th>\n",
       "      <th>file.name</th>\n",
       "      <th>file.type_id</th>\n",
       "      <th>type_uid</th>\n",
       "      <th>event_id</th>\n",
       "      <th>type_name</th>\n",
       "      <th>process.name</th>\n",
       "      <th>process.file.name</th>\n",
       "      <th>process.file.path</th>\n",
       "      <th>process.file.parent_folder</th>\n",
       "      <th>actor.process.name</th>\n",
       "      <th>actor.process.file.name</th>\n",
       "      <th>actor.process.file.path</th>\n",
       "      <th>actor.process.file.parent_folder</th>\n",
       "      <th>process.pid</th>\n",
       "      <th>actor.process.pid</th>\n",
       "      <th>process.uid</th>\n",
       "      <th>actor.process.uid</th>\n",
       "    </tr>\n",
       "  </thead>\n",
       "  <tbody>\n",
       "    <tr>\n",
       "      <td>2021-08-02T13:05:32.77Z</td>\n",
       "      <td>adfs01.simulandlabs.com</td>\n",
       "      <td>adfs01.simulandlabs.com</td>\n",
       "      <td>adfs01.simulandlabs.com</td>\n",
       "      <td>adfs01.simulandlabs.com</td>\n",
       "      <td>adfs01.simulandlabs.com</td>\n",
       "      <td>/subscriptions/00000000-0000-0000-0000-000000000000/resourcegroups/azhybrid/providers/microsoft.compute/virtualmachines/adfs01</td>\n",
       "      <td>/subscriptions/00000000-0000-0000-0000-000000000000/resourcegroups/azhybrid/providers/microsoft.compute/virtualmachines/adfs01</td>\n",
       "      <td>/subscriptions/00000000-0000-0000-0000-000000000000/resourcegroups/azhybrid/providers/microsoft.compute/virtualmachines/adfs01</td>\n",
       "      <td>/subscriptions/00000000-0000-0000-0000-000000000000/resourcegroups/azhybrid/providers/microsoft.compute/virtualmachines/adfs01</td>\n",
       "      <td>/subscriptions/00000000-0000-0000-0000-000000000000/resourcegroups/azhybrid/providers/microsoft.compute/virtualmachines/adfs01</td>\n",
       "      <td>\\MICROSOFT##WID\\tsql\\query</td>\n",
       "      <td>6</td>\n",
       "      <td>100114</td>\n",
       "      <td>18</td>\n",
       "      <td>Pipe connected</td>\n",
       "      <td>powershell.exe</td>\n",
       "      <td>powershell.exe</td>\n",
       "      <td>C:\\Windows\\System32\\WindowsPowerShell\\v1.0\\powershell.exe</td>\n",
       "      <td>C:\\Windows\\System32\\WindowsPowerShell\\v1.0</td>\n",
       "      <td>powershell.exe</td>\n",
       "      <td>powershell.exe</td>\n",
       "      <td>C:\\Windows\\System32\\WindowsPowerShell\\v1.0\\powershell.exe</td>\n",
       "      <td>C:\\Windows\\System32\\WindowsPowerShell\\v1.0</td>\n",
       "      <td>5692</td>\n",
       "      <td>5692</td>\n",
       "      <td>9acedb82-ccd4-6107-22de-030000000600</td>\n",
       "      <td>9acedb82-ccd4-6107-22de-030000000600</td>\n",
       "    </tr>\n",
       "  </tbody>\n",
       "</table>"
      ]
     },
     "metadata": {},
     "output_type": "display_data"
    }
   ],
   "source": [
    "powershell_event = FIND event RESPONDED BY procs\n",
    "\n",
    "DISP powershell_event"
   ]
  },
  {
   "cell_type": "markdown",
   "id": "12d2296f",
   "metadata": {},
   "source": [
    "This PowerShell process is running a query to the `WID` on `ADFS01`.  Someone is interacting with our WID database!\n",
    "Let's see if defender caught any activity from this process id."
   ]
  },
  {
   "cell_type": "code",
   "execution_count": 8,
   "id": "88e678f6",
   "metadata": {},
   "outputs": [
    {
     "data": {
      "text/html": [
       "<table border=\"1\" class=\"dataframe\">\n",
       "  <thead>\n",
       "    <tr style=\"text-align: right;\">\n",
       "      <th>time</th>\n",
       "      <th>type_name</th>\n",
       "      <th>device.hostname</th>\n",
       "    </tr>\n",
       "  </thead>\n",
       "  <tbody>\n",
       "    <tr>\n",
       "      <td>2021-08-02T13:11:39.7724491Z</td>\n",
       "      <td>LdapSearch</td>\n",
       "      <td>adfs01.simulandlabs.com</td>\n",
       "    </tr>\n",
       "    <tr>\n",
       "      <td>2021-08-02T13:11:39.7747609Z</td>\n",
       "      <td>LdapSearch</td>\n",
       "      <td>adfs01.simulandlabs.com</td>\n",
       "    </tr>\n",
       "    <tr>\n",
       "      <td>2021-08-02T13:11:53.5836949Z</td>\n",
       "      <td>LdapSearch</td>\n",
       "      <td>adfs01.simulandlabs.com</td>\n",
       "    </tr>\n",
       "    <tr>\n",
       "      <td>2021-08-02T13:11:53.6344905Z</td>\n",
       "      <td>LdapSearch</td>\n",
       "      <td>adfs01.simulandlabs.com</td>\n",
       "    </tr>\n",
       "    <tr>\n",
       "      <td>2021-08-02T13:15:30.513652Z</td>\n",
       "      <td>LdapSearch</td>\n",
       "      <td>adfs01.simulandlabs.com</td>\n",
       "    </tr>\n",
       "  </tbody>\n",
       "</table>"
      ]
     },
     "metadata": {},
     "output_type": "display_data"
    },
    {
     "data": {
      "text/html": [
       "<table border=\"1\" class=\"dataframe\">\n",
       "  <thead>\n",
       "    <tr style=\"text-align: right;\">\n",
       "      <th>endpoint.hostname</th>\n",
       "      <th>parent_process.endpoint.hostname</th>\n",
       "      <th>endpoint.uid</th>\n",
       "      <th>parent_process.endpoint.uid</th>\n",
       "      <th>cmd_line</th>\n",
       "      <th>pid</th>\n",
       "      <th>uid</th>\n",
       "      <th>parent_process.pid</th>\n",
       "      <th>parent_process.uid</th>\n",
       "      <th>parent_process.file.name</th>\n",
       "      <th>file.name</th>\n",
       "      <th>file.path</th>\n",
       "      <th>file.parent_folder</th>\n",
       "      <th>file.hash.md5</th>\n",
       "      <th>file.hash.sha1</th>\n",
       "      <th>file.hash.sha256</th>\n",
       "    </tr>\n",
       "  </thead>\n",
       "  <tbody>\n",
       "    <tr>\n",
       "      <td>adfs01.simulandlabs.com</td>\n",
       "      <td>adfs01.simulandlabs.com</td>\n",
       "      <td>00000000-0000-0000-0000-000000000000</td>\n",
       "      <td>00000000-0000-0000-0000-000000000000</td>\n",
       "      <td>powershell.exe</td>\n",
       "      <td>5692.0</td>\n",
       "      <td>5692.0</td>\n",
       "      <td>820.0</td>\n",
       "      <td>820.0</td>\n",
       "      <td>svchost.exe</td>\n",
       "      <td>powershell.exe</td>\n",
       "      <td>c:\\windows\\system32\\windowspowershell\\v1.0\\powershell.exe</td>\n",
       "      <td>c:\\windows\\system32\\windowspowershell\\v1.0</td>\n",
       "      <td>7353f60b1739074eb17c5f4dddefe239</td>\n",
       "      <td>6cbce4a295c163791b60fc23d285e6d84f28ee4c</td>\n",
       "      <td>de96a6e69944335375dc1ac238336066889d9ffc7d73628ef4fe1b1b160ab32c</td>\n",
       "    </tr>\n",
       "    <tr>\n",
       "      <td>adfs01.simulandlabs.com</td>\n",
       "      <td>adfs01.simulandlabs.com</td>\n",
       "      <td>None</td>\n",
       "      <td>None</td>\n",
       "      <td>None</td>\n",
       "      <td></td>\n",
       "      <td></td>\n",
       "      <td></td>\n",
       "      <td></td>\n",
       "      <td>None</td>\n",
       "      <td>None</td>\n",
       "      <td>None</td>\n",
       "      <td>None</td>\n",
       "      <td>None</td>\n",
       "      <td>None</td>\n",
       "      <td>None</td>\n",
       "    </tr>\n",
       "    <tr>\n",
       "      <td></td>\n",
       "      <td></td>\n",
       "      <td>None</td>\n",
       "      <td>None</td>\n",
       "      <td>None</td>\n",
       "      <td></td>\n",
       "      <td></td>\n",
       "      <td></td>\n",
       "      <td></td>\n",
       "      <td>None</td>\n",
       "      <td>None</td>\n",
       "      <td>None</td>\n",
       "      <td>None</td>\n",
       "      <td>None</td>\n",
       "      <td>None</td>\n",
       "      <td>None</td>\n",
       "    </tr>\n",
       "  </tbody>\n",
       "</table>"
      ]
     },
     "metadata": {},
     "output_type": "display_data"
    },
    {
     "data": {
      "text/html": [
       "<table border=\"1\" class=\"dataframe\">\n",
       "  <thead>\n",
       "    <tr style=\"text-align: right;\">\n",
       "      <th>endpoint.hostname</th>\n",
       "      <th>endpoint.uid</th>\n",
       "      <th>uid</th>\n",
       "      <th>name</th>\n",
       "      <th>domain</th>\n",
       "    </tr>\n",
       "  </thead>\n",
       "  <tbody>\n",
       "    <tr>\n",
       "      <td>adfs01.simulandlabs.com</td>\n",
       "      <td>00000000-0000-0000-0000-000000000000</td>\n",
       "      <td>S-1-5-21-2490359158-13971675-3780420524-500</td>\n",
       "      <td>wardog</td>\n",
       "      <td>simulandlabs</td>\n",
       "    </tr>\n",
       "    <tr>\n",
       "      <td>adfs01.simulandlabs.com</td>\n",
       "      <td>None</td>\n",
       "      <td>S-1-5-21-2490359158-13971675-3780420524-1105</td>\n",
       "      <td>pgustavo</td>\n",
       "      <td>simulandlabs.com</td>\n",
       "    </tr>\n",
       "    <tr>\n",
       "      <td></td>\n",
       "      <td>None</td>\n",
       "      <td></td>\n",
       "      <td></td>\n",
       "      <td></td>\n",
       "    </tr>\n",
       "  </tbody>\n",
       "</table>"
      ]
     },
     "metadata": {},
     "output_type": "display_data"
    }
   ],
   "source": [
    "powershell_mde_events = GET event FROM sqlalchemy://GoldenSAML-Microsoft365DefenderEvents\n",
    "                        WHERE actor.process.pid = procs.pid\n",
    "                          AND device.hostname = procs.endpoint.hostname\n",
    "DISP powershell_mde_events ATTR time, type_name, device.hostname SORT BY time ASC\n",
    "\n",
    "mde_actor_procs = FIND process ORIGINATED mde_events\n",
    "DISP mde_actor_procs\n",
    "\n",
    "mde_actor_users = FIND user ORIGINATED mde_events\n",
    "DISP mde_actor_users"
   ]
  },
  {
   "cell_type": "markdown",
   "id": "fd1339e0",
   "metadata": {},
   "source": [
    "Using the PowerShell `PID`, we are able to see that there are also `ldapsearch` queries executing on `ADFS01` and who is executing those queries. What are those `ldapsearch` events doing?"
   ]
  },
  {
   "cell_type": "code",
   "execution_count": 9,
   "id": "1d9e93b3",
   "metadata": {},
   "outputs": [
    {
     "data": {
      "text/html": [
       "<table border=\"1\" class=\"dataframe\">\n",
       "  <thead>\n",
       "    <tr style=\"text-align: right;\">\n",
       "      <th>uid</th>\n",
       "      <th>attr_list</th>\n",
       "      <th>search_filter</th>\n",
       "    </tr>\n",
       "  </thead>\n",
       "  <tbody>\n",
       "    <tr>\n",
       "      <td>113597</td>\n",
       "      <td>[\"objectClass\"]</td>\n",
       "      <td>(objectClass=*)</td>\n",
       "    </tr>\n",
       "    <tr>\n",
       "      <td>113598</td>\n",
       "      <td>[\"thumbnailphoto\"]</td>\n",
       "      <td>(&amp;(objectclass=contact)(!name=CryptoPolicy)(ThumbnailPhoto=*))</td>\n",
       "    </tr>\n",
       "    <tr>\n",
       "      <td>113608</td>\n",
       "      <td>[\"\"]</td>\n",
       "      <td>(name=CryptoPolicy)</td>\n",
       "    </tr>\n",
       "    <tr>\n",
       "      <td>113616</td>\n",
       "      <td>[\"thumbnailphoto\"]</td>\n",
       "      <td>(l=9736f74f-fd37-4b02-80e8-8120a72ad6c2)</td>\n",
       "    </tr>\n",
       "    <tr>\n",
       "      <td>113771</td>\n",
       "      <td>[\"\"]</td>\n",
       "      <td>(&amp;(objectCategory=user)(memberOf=CN=Domain Admins,CN=Users,DC=simulandlabs,DC=com))</td>\n",
       "    </tr>\n",
       "  </tbody>\n",
       "</table>"
      ]
     },
     "metadata": {},
     "output_type": "display_data"
    }
   ],
   "source": [
    "ldap_query = FIND query_info RESPONDED BY powershell_mde_events\n",
    "\n",
    "DISP ldap_query"
   ]
  },
  {
   "cell_type": "markdown",
   "id": "d25af071",
   "metadata": {},
   "source": [
    "We see a few things that are interesting from the `attr_list`.  There is a mention of `thumbnailphoto`, where if we do a quick Google search for `adfs` and `thumbnailphoto`, we can see that this is a way from the actor to access the [Distributed Key Manager](https://threathunterplaybook.com/library/windows/adfs_dkm_keys.html) (DKM) Keys. \n",
    "\n",
    "Looking back at the steps that the actor needs to accomplish, we can see evidence that the actor has moved to Step 2.  There is an attribute value listed in the `search_filter` as well as searching for `users` in the `Domain Admins` group.  We may be able to hunt for more activity based on these items.\n",
    "\n",
    "\n",
    "So far we have found activity for:\n",
    "  - T1087.002 - Account Discovery: Domain Account\n",
    "  - T1552.004 - Unsecured Credentials: Private Keys\n",
    "  \n",
    "  \n",
    "Let's take a look at our win events for anything that might catch ADFS objects since the attribute value might be an object value."
   ]
  },
  {
   "cell_type": "code",
   "execution_count": 10,
   "id": "8dd1592e",
   "metadata": {
    "scrolled": false
   },
   "outputs": [
    {
     "data": {
      "text/html": [
       "<table border=\"1\" class=\"dataframe\">\n",
       "  <thead>\n",
       "    <tr style=\"text-align: right;\">\n",
       "      <th>uid</th>\n",
       "      <th>type</th>\n",
       "      <th>data</th>\n",
       "    </tr>\n",
       "  </thead>\n",
       "  <tbody>\n",
       "    <tr>\n",
       "      <td>9736f74f-fd37-4b02-80e8-8120a72ad6c2</td>\n",
       "      <td>5cb41ed0-0e4c-11d0-a286-00aa003049e2</td>\n",
       "      <td>%%7684 \\t\\t{77b5b886-944a-11d1-aebd-0000f80367c1} \\t\\t\\t{8d3bca50-1d7e-11d0-a081-00aa006c33ed} \\t{5cb41ed0-0e4c-11d0-a286-00aa003049e2}</td>\n",
       "    </tr>\n",
       "    <tr>\n",
       "      <td>9736f74f-fd37-4b02-80e8-8120a72ad6c2</td>\n",
       "      <td>5cb41ed0-0e4c-11d0-a286-00aa003049e2</td>\n",
       "      <td>%%7684 \\t\\t{e48d0154-bcf8-11d1-8702-00c04fb96050} \\t\\t\\t{bf9679e5-0de6-11d0-a285-00aa003049e2} \\t\\t\\t{bf967a0e-0de6-11d0-a285-00aa003049e2} \\t\\t{77b5b886-944a-11d1-aebd-0000f80367c1} \\t\\t\\t{8d3bca50-1d7e-11d0-a081-00aa006c33ed} \\t{5cb41ed0-0e4c-11d0-a286-00aa003049e2}</td>\n",
       "    </tr>\n",
       "    <tr>\n",
       "      <td>9736f74f-fd37-4b02-80e8-8120a72ad6c2</td>\n",
       "      <td>5cb41ed0-0e4c-11d0-a286-00aa003049e2</td>\n",
       "      <td>%%7684 \\t{5cb41ed0-0e4c-11d0-a286-00aa003049e2} \\t\\t{e48d0154-bcf8-11d1-8702-00c04fb96050} \\t\\t\\t{bf9679e5-0de6-11d0-a285-00aa003049e2} \\t\\t\\t{bf96793f-0de6-11d0-a285-00aa003049e2} \\t\\t\\t{bf967a41-0de6-11d0-a285-00aa003049e2} \\t\\t\\t{bf9679ef-0de6-11d0-a285-00aa003049e2} \\t\\t\\t{bf9679f0-0de6-11d0-a285-00aa003049e2} \\t\\t\\t{bf967a55-0de6-11d0-a285-00aa003049e2} \\t\\t\\t{bf967950-0de6-11d0-a285-00aa003049e2} \\t\\t\\t{f0f8ff8e-1191-11d0-a060-00aa006c33ed} \\t\\t\\t{f0f8ff90-1191-11d0-a060-00aa006c33ed} \\t\\t\\t{bf9679e4-0de6-11d0-a285-00aa003049e2} \\t\\t\\t{f0f8ffa7-1191-11d0-a060-00aa006c33ed} \\t\\t\\t{bf96794f-0de6-11d0-a285-00aa003049e2} \\t\\t\\t{f0f8ff88-1191-11d0-a060-00aa006c33ed} \\t\\t\\t{bf967a06-0de6-11d0-a285-00aa003049e2} \\t\\t\\t{bf967954-0de6-11d0-a285-00aa003049e2} \\t\\t\\t{bf967a1c-0de6-11d0-a285-00aa003049e2} \\t\\t\\t{bf967a0e-0de6-11d0-a285-00aa003049e2} \\t\\t\\t{bf9679e7-0de6-11d0-a285-00aa003049e2} \\t\\t\\t{fe6136a0-2073-11d0-a9c2-00aa006c33ed} \\t\\t\\t{6d05fb41-246b-11d0-a9c8-00aa006c33ed} \\t\\t\\t{e0fa1e62-9b45-11d0-afdd-00c04fd930c9} \\t\\t\\t{3e74f60e-3e73-11d1-a9c0-0000f80367c1} \\t\\t\\t{0296c123-40da-11d1-a9c0-0000f80367c1} \\t\\t\\t{28630ebc-41d5-11d1-a9c1-0000f80367c1} \\t\\t\\t{26d97369-6070-11d1-a9c6-0000f80367c1} \\t\\t\\t{800d94d7-b7a1-42a1-b14d-7cae1423d07f} \\t\\t\\t{773e93af-d3b4-48d4-b3f9-06457602d3d0} \\t\\t\\t{4b1cba4e-302f-4134-ac7c-f01f6c797843} \\t\\t\\t{f217e4ec-0836-4b90-88af-2f5d4bbda2bc} \\t\\t\\t{6cd53daf-003e-49e7-a702-6fa896e7a6ef} \\t\\t\\t{5bd5208d-e5f4-46ae-a514-543bc9c47659} \\t\\t\\t{e21a94e4-2d66-4ce5-b30d-0ef87a776ff0} \\t\\t\\t{def449f1-fd3b-4045-98cf-d9658da788b5} \\t\\t\\t{bf967961-0de6-11d0-a285-00aa003049e2} \\t\\t\\t{bf9679b5-0de6-11d0-a285-00aa003049e2} \\t\\t{771727b1-31b8-4cdf-ae62-4fe39fadf89e} \\t\\t\\t{bf967a78-0de6-11d0-a285-00aa003049e2} \\t\\t\\t{bf967a77-0de6-11d0-a285-00aa003049e2} \\t\\t\\t{bf967a3c-0de6-11d0-a285-00aa003049e2} \\t\\t\\t{bf967a70-0de6-11d0-a285-00aa003049e2} \\t\\t\\t{bf96798f-0de6-11d0-a285-00aa003049e2} \\t\\t\\t{167757bc-47f3-11d1-a9c3-0000f80367c1} \\t\\t\\t{16775848-47f3-11d1-a9c3-0000f80367c1} \\t\\t\\t{bf967a1e-0de6-11d0-a285-00aa003049e2} \\t\\t\\t{bf967a1d-0de6-11d0-a285-00aa003049e2} \\t\\t\\t{bf9679f4-0de6-11d0-a285-00aa003049e2} \\t\\t\\t{bf967a6f-0de6-11d0-a285-00aa003049e2} \\t\\t\\t{bf967a73-0de6-11d0-a285-00aa003049e2} \\t\\t\\t{bf96791a-0de6-11d0-a285-00aa003049e2} \\t\\t\\t{bf967972-0de6-11d0-a285-00aa003049e2} \\t\\t\\t{bf967a71-0de6-11d0-a285-00aa003049e2} \\t\\t\\t{5fd424a1-1262-11d0-a060-00aa006c33ed} \\t\\t\\t{a8df7394-c5ea-11d1-bbcb-0080c76670c0} \\t\\t\\t{a8df7498-c5ea-11d1-bbcb-0080c76670c0} \\t\\t\\t{16775820-47f3-11d1-a9c3-0000f80367c1} \\t\\t\\t{a8df7407-c5ea-11d1-bbcb-0080c76670c0} \\t\\t\\t{bf967a16-0de6-11d0-a285-00aa003049e2} \\t\\t\\t{bf967962-0de6-11d0-a285-00aa003049e2} \\t\\t\\t{bf967976-0de6-11d0-a285-00aa003049e2} \\t\\t\\t{bf967a21-0de6-11d0-a285-00aa003049e2} \\t\\t\\t{244b2970-5abd-11d0-afd2-00c04fd930c9} \\t\\t\\t{66171887-8f3c-11d0-afda-00c04fd930c9} \\t\\t\\t{3e10944d-c354-11d0-aff8-0000f80367c1} \\t\\t\\t{26d9736e-6070-11d1-a9c6-0000f80367c1} \\t\\t\\t{52458019-ca6a-11d0-afff-0000f80367c1} \\t\\t\\t{e1aea404-cd5b-11d0-afff-0000f80367c1} \\t\\t\\t{05308983-7688-11d1-aded-00c04fd8d5cd} \\t\\t\\t{19405b9c-3cfa-11d1-a9c0-0000f80367c1} \\t\\t\\t{19405b9e-3cfa-11d1-a9c0-0000f80367c1} \\t\\t\\t{0296c122-40da-11d1-a9c0-0000f80367c1} \\t\\t\\t{0296c124-40da-11d1-a9c0-0000f80367c1} \\t\\t\\t{bf967951-0de6-11d0-a285-00aa003049e2} \\t\\t\\t{28630ec0-41d5-11d1-a9c1-0000f80367c1} \\t\\t\\t{52ab8670-5709-11d1-a9c6-0000f80367c1} \\t\\t\\t{d50c2cdb-8951-11d1-aebc-0000f80367c1} \\t\\t\\t{07383082-91df-11d1-aebc-0000f80367c1} \\t\\t\\t{00fbf30d-91fe-11d1-aebc-0000f80367c1} \\t\\t\\t{2a132579-9373-11d1-aebc-0000f80367c1} \\t\\t\\t{2a13257f-9373-11d1-aebc-0000f80367c1} \\t\\t\\t{167758ad-47f3-11d1-a9c3-0000f80367c1} \\t\\t\\t{e1aea402-cd5b-11d0-afff-0000f80367c1} \\t\\t\\t{d167aa4b-8b08-11d2-9939-0000f87a57d4} \\t\\t\\t{1ea64e5d-ac0f-11d2-90df-00c04fd91ab1} \\t\\t\\t{23773dc2-b63a-11d2-90e1-00c04fd91ab1} \\t\\t\\t{178b7bc2-b63a-11d2-90e1-00c04fd91ab1} \\t\\t\\t{e48e64e0-12c9-11d3-9102-00c04fd91ab1} \\t\\t\\t{67f121dc-7d02-4c7d-82f5-9ad4c950ac34} \\t\\t\\t{9e6f3a4d-242c-4f37-b068-36b57f9fc852} \\t\\t\\t{bf967a31-0de6-11d0-a285-00aa003049e2} \\t\\t\\t{2a8c68fc-3a7a-4e87-8720-fe77c51cbe74} \\t\\t\\t{ececcd20-a7e0-4688-9ccf-02ece5e287f5} \\t\\t\\t{a637d211-5739-4ed1-89b2-88974548bc59} \\t\\t\\t{df446e52-b5fa-4ca2-a42f-13f98a526c8f} \\t\\t\\t{f85b6228-3734-4525-b6b7-3f3bb220902c} \\t\\t\\t{a0dcd536-5158-42fe-8c40-c00a7ad37959} \\t\\t\\t{60234769-4819-4615-a1b2-49d2f119acb5} \\t\\t\\t{2b702515-c1f7-4b3b-b148-c0e4c6ceecb4} \\t\\t\\t{bf967a6e-0de6-11d0-a285-00aa003049e2} \\t\\t\\t{94f6f2ac-c76d-4b5e-b71f-f332c3e93c22} \\t\\t\\t{5dd68c41-bfdf-438b-9b5d-39d9618bf260} \\t\\t\\t{c8bc72e0-a6b4-48f0-94a5-fd76a88c9987} \\t\\t\\t{ff155a2a-44e5-4de0-8318-13a58988de4f} \\t\\t\\t{37c94ff6-c6d4-498f-b2f9-c6f7f8647809} \\t\\t\\t{bf967a32-0de6-11d0-a285-00aa003049e2} \\t\\t\\t{16775804-47f3-11d1-a9c3-0000f80367c1} \\t\\t\\t{e8b2c971-a6df-47bc-8d6f-62770d527aa5} \\t\\t\\t{f547511c-5b2a-44cc-8358-992a88258164} \\t\\t\\t{a45398b7-c44a-4eb6-82d3-13c10946dbfe} \\t\\t\\t{5e6cf031-bda8-43c8-aca4-8fee4127005b} \\t\\t\\t{5a2eacd7-cc2b-48cf-9d9a-b6f1a0024de9} \\t\\t\\t{1a3d0d20-5844-4199-ad25-0f5039a76ada} \\t\\t\\t{79abe4eb-88f3-48e7-89d6-f4bc7e98c331} \\t\\t\\t{8fb59256-55f1-444b-aacb-f5b482fe3459} \\t\\t\\t{8ab15858-683e-466d-877f-d640e1f9a611} \\t\\t\\t{ce5b01bc-17c6-44b8-9dc1-a9668b00901b} \\t\\t\\t{54d522db-ec95-48f5-9bbd-1880ebbb2180} \\t\\t\\t{7469b704-edb0-4568-a5a5-59f4862c75a7} \\t\\t\\t{998c06ac-3f87-444e-a5df-11b03dc8a50c} \\t\\t\\t{ab5543ad-23a1-3b45-b937-9b313d5474a8} \\t\\t\\t{5a5661a1-97c6-544b-8056-e430fe7bc554} \\t\\t\\t{d5006229-9913-2242-8b17-83761d1e0e5b} \\t\\t\\t{78565e80-03d4-4fe3-afac-8c3bca2f3653} \\t\\t\\t{b002f407-1340-41eb-bca0-bd7d938e25a9} \\t\\t\\t{34f6bdf5-2e79-4c3b-8e14-3d93b75aab89} \\t\\t\\t{fa0c8ade-4c94-4610-bace-180efdee2140} \\t\\t\\t{a8df7489-c5ea-11d1-bbcb-0080c76670c0} \\t\\t\\t{fa4693bb-7bc2-4cb9-81a8-c99c43b7905e} \\t\\t\\t{bf96798c-0de6-11d0-a285-00aa003049e2} \\t\\t\\t{01072d9a-98ad-4a53-9744-e83e287278fb} \\t\\t\\t{bf9679f2-0de6-11d0-a285-00aa003049e2} \\t\\t\\t{bf9679a9-0de6-11d0-a285-00aa003049e2} \\t\\t\\t{c569bb46-c680-44bc-a273-e6c227d71b45} \\t\\t\\t{7bd76b92-3244-438a-ada6-24f5ea34381e} \\t\\t\\t{adde62c6-1880-41ed-bd3c-30b7d25e14f0} \\t\\t\\t{5eb526d7-d71b-44ae-8cc6-95460052e6ac} \\t\\t{77b5b886-944a-11d1-aebd-0000f80367c1} \\t\\t\\t{0296c121-40da-11d1-a9c0-0000f80367c1} \\t\\t\\t{0296c11f-40da-11d1-a9c0-0000f80367c1} \\t\\t\\t{bf9679a2-0de6-11d0-a285-00aa003049e2} \\t\\t\\t{bf967a10-0de6-11d0-a285-00aa003049e2} \\t\\t\\t{0296c11c-40da-11d1-a9c0-0000f80367c1} \\t\\t\\t{bf967a7f-0de6-11d0-a285-00aa003049e2} \\t\\t\\t{bf967a3a-0de6-11d0-a285-00aa003049e2} \\t\\t\\t{bf967a39-0de6-11d0-a285-00aa003049e2} \\t\\t\\t{bf9679fc-0de6-11d0-a285-00aa003049e2} \\t\\t\\t{bf967945-0de6-11d0-a285-00aa003049e2} \\t\\t\\t{16775858-47f3-11d1-a9c3-0000f80367c1} \\t\\t\\t{4d146e4a-48d4-11d1-a9c3-0000f80367c1} \\t\\t\\t{4d146e4b-48d4-11d1-a9c3-0000f80367c1} \\t\\t\\t{16775781-47f3-11d1-a9c3-0000f80367c1} \\t\\t\\t{bf9679fe-0de6-11d0-a285-00aa003049e2} \\t\\t\\t{bf967a49-0de6-11d0-a285-00aa003049e2} \\t\\t\\t{bf967a4b-0de6-11d0-a285-00aa003049e2} \\t\\t\\t{bf9679fd-0de6-11d0-a285-00aa003049e2} \\t\\t\\t{a11703b7-5641-4d9c-863e-5fb3325e74e0} \\t\\t\\t{dc66d44e-3d43-40f5-85c5-3c12e169927e} \\t\\t\\t{94c42110-bae4-4cea-8577-af813af5da25} \\t\\t\\t{bf967a4a-0de6-11d0-a285-00aa003049e2} \\t\\t\\t{bf967974-0de6-11d0-a285-00aa003049e2} \\t\\t\\t{bf96793e-0de6-11d0-a285-00aa003049e2} \\t\\t\\t{bd29bf90-66ad-40e1-887b-10df070419a6} \\t\\t\\t{f0f8ff84-1191-11d0-a060-00aa006c33ed} \\t\\t\\t{bf967a7b-0de6-11d0-a285-00aa003049e2} \\t\\t\\t{f0f8ffa4-1191-11d0-a060-00aa006c33ed} \\t\\t\\t{e16a9db2-403c-11d1-a9c0-0000f80367c1} \\t\\t\\t{f0f8ffa2-1191-11d0-a060-00aa006c33ed} \\t\\t\\t{bf9679fb-0de6-11d0-a285-00aa003049e2} \\t\\t\\t{f0f8ffa1-1191-11d0-a060-00aa006c33ed} \\t\\t\\t{bf9679f7-0de6-11d0-a285-00aa003049e2} \\t\\t\\t{f0f8ffa3-1191-11d0-a060-00aa006c33ed} \\t\\t\\t{f0f8ffa6-1191-11d0-a060-00aa006c33ed} \\t\\t\\t{f0f8ffa5-1191-11d0-a060-00aa006c33ed} \\t\\t\\t{8d3bca50-1d7e-11d0-a081-00aa006c33ed} \\t\\t\\t{bf96798d-0de6-11d0-a285-00aa003049e2} \\t\\t\\t{bf967a69-0de6-11d0-a285-00aa003049e2} \\t\\t\\t{0296c11d-40da-11d1-a9c0-0000f80367c1} \\t\\t\\t{0296c11e-40da-11d1-a9c0-0000f80367c1} \\t\\t{bc0ac240-79a9-11d0-9020-00c04fc2d4cf} \\t\\t\\t{bf967991-0de6-11d0-a285-00aa003049e2} \\t\\t{59ba2f42-79a2-11d0-9020-00c04fc2d3cf} \\t\\t\\t{bf967a6a-0de6-11d0-a285-00aa003049e2} \\t\\t\\t{bf967919-0de6-11d0-a285-00aa003049e2} \\t\\t\\t{bf967953-0de6-11d0-a285-00aa003049e2} \\t\\t\\t{bf967984-0de6-11d0-a285-00aa003049e2} \\t\\t\\t{5fd42471-1262-11d0-a060-00aa006c33ed} \\t\\t{4c164200-20c0-11d0-a768-00aa006e0529} \\t\\t\\t{3f78c3e5-f79a-46bd-a0b8-9d18116ddc79} \\t\\t{e45795b3-9455-11d1-aebd-0000f80367c1} \\t\\t\\t{bf967a7a-0de6-11d0-a285-00aa003049e2} \\t\\t\\t{9a9a0221-4a5b-11d1-a9c3-0000f80367c1}</td>\n",
       "    </tr>\n",
       "  </tbody>\n",
       "</table>"
      ]
     },
     "metadata": {},
     "output_type": "display_data"
    },
    {
     "data": {
      "text/html": [
       "<table border=\"1\" class=\"dataframe\">\n",
       "  <thead>\n",
       "    <tr style=\"text-align: right;\">\n",
       "      <th>domain</th>\n",
       "      <th>name</th>\n",
       "      <th>uid</th>\n",
       "    </tr>\n",
       "  </thead>\n",
       "  <tbody>\n",
       "    <tr>\n",
       "      <td>SIMULANDLABS</td>\n",
       "      <td>wardog</td>\n",
       "      <td>S-1-5-21-2490359158-13971675-3780420524-500</td>\n",
       "    </tr>\n",
       "  </tbody>\n",
       "</table>"
      ]
     },
     "metadata": {},
     "output_type": "display_data"
    },
    {
     "data": {
      "text/html": [
       "<table border=\"1\" class=\"dataframe\">\n",
       "  <thead>\n",
       "    <tr style=\"text-align: right;\">\n",
       "      <th>time</th>\n",
       "      <th>event_id</th>\n",
       "      <th>type_uid</th>\n",
       "      <th>type_name</th>\n",
       "      <th>device.hostname</th>\n",
       "    </tr>\n",
       "  </thead>\n",
       "  <tbody>\n",
       "    <tr>\n",
       "      <td>2021-08-02T13:11:39.77Z</td>\n",
       "      <td>4662</td>\n",
       "      <td>300400</td>\n",
       "      <td>An operation was performed on an object</td>\n",
       "      <td>dc01.simulandlabs.com</td>\n",
       "    </tr>\n",
       "    <tr>\n",
       "      <td>2021-08-02T13:11:53.63Z</td>\n",
       "      <td>4662</td>\n",
       "      <td>300400</td>\n",
       "      <td>An operation was performed on an object</td>\n",
       "      <td>dc01.simulandlabs.com</td>\n",
       "    </tr>\n",
       "    <tr>\n",
       "      <td>2021-08-02T13:13:11.003Z</td>\n",
       "      <td>4662</td>\n",
       "      <td>300400</td>\n",
       "      <td>An operation was performed on an object</td>\n",
       "      <td>dc01.simulandlabs.com</td>\n",
       "    </tr>\n",
       "    <tr>\n",
       "      <td>2021-08-02T13:13:11Z</td>\n",
       "      <td>4662</td>\n",
       "      <td>300400</td>\n",
       "      <td>An operation was performed on an object</td>\n",
       "      <td>dc01.simulandlabs.com</td>\n",
       "    </tr>\n",
       "  </tbody>\n",
       "</table>"
      ]
     },
     "metadata": {},
     "output_type": "display_data"
    }
   ],
   "source": [
    "thumbnail_object = FIND managed_entity RESPONDED win_events\n",
    "                   WHERE uid LIKE '%9736f74f-fd37-4b02-80e8-8120a72ad6c2%'\n",
    "DISP thumbnail_object\n",
    "\n",
    "thumbnail_user = FIND user READ thumbnail_object\n",
    "DISP thumbnail_user\n",
    "\n",
    "thumbnail_event = FIND event RESPONDED BY thumbnail_object\n",
    "DISP thumbnail_event ATTR time, event_id, type_uid, type_name, device.hostname SORT BY time ASC"
   ]
  },
  {
   "cell_type": "markdown",
   "id": "723e9c1f",
   "metadata": {},
   "source": [
    "Looks like we see activity that is based off of the previous AD Object.  Windows Event ID `4662` shows any time an AD object was accessed and from what system that activity took place on.  If we look at the `entity.data` this looks like guids from additional objects and the range looks like this might be enumeration.  For how quickly these calls are being made, this looks very automated.  What tool might be able to do this type of activity on a DC?  \n",
    "\n",
    "We have found activity for:\n",
    "  - T1003 - OS Credential Dumping\n",
    "  \n",
    "  \n",
    "We also have a rough time of the start of the attack `2021-08 13:11:00`\n",
    "\n",
    "What other events happened around that time?\n",
    "\n",
    "Let's see what was captured by MDE?"
   ]
  },
  {
   "cell_type": "code",
   "execution_count": 11,
   "id": "5335fabb",
   "metadata": {},
   "outputs": [
    {
     "data": {
      "text/html": [
       "<table border=\"1\" class=\"dataframe\">\n",
       "  <thead>\n",
       "    <tr style=\"text-align: right;\">\n",
       "      <th>time</th>\n",
       "      <th>device.hostname</th>\n",
       "      <th>file.endpoint.hostname</th>\n",
       "      <th>process.endpoint.hostname</th>\n",
       "      <th>actor.process.endpoint.hostname</th>\n",
       "      <th>actor.process.parent_process.endpoint.hostname</th>\n",
       "      <th>actor.user.endpoint.hostname</th>\n",
       "      <th>user.endpoint.hostname</th>\n",
       "      <th>actor.user.uid</th>\n",
       "      <th>actor.user.name</th>\n",
       "      <th>user.name</th>\n",
       "      <th>actor.user.domain</th>\n",
       "      <th>user.domain</th>\n",
       "      <th>src_endpoint.ip</th>\n",
       "      <th>src_endpoint.port</th>\n",
       "      <th>dst_endpoint.hostname</th>\n",
       "      <th>dst_endpoint.ip</th>\n",
       "      <th>dst_endpoint.port</th>\n",
       "      <th>user.uid</th>\n",
       "      <th>query_info.uid</th>\n",
       "      <th>entity.uid</th>\n",
       "      <th>type_uid</th>\n",
       "      <th>type_name</th>\n",
       "    </tr>\n",
       "  </thead>\n",
       "  <tbody>\n",
       "    <tr>\n",
       "      <td>2021-08-02T13:13:02.057Z</td>\n",
       "      <td>adfs01.simulandlabs.com</td>\n",
       "      <td>adfs01.simulandlabs.com</td>\n",
       "      <td>adfs01.simulandlabs.com</td>\n",
       "      <td>adfs01.simulandlabs.com</td>\n",
       "      <td>adfs01.simulandlabs.com</td>\n",
       "      <td>adfs01.simulandlabs.com</td>\n",
       "      <td>adfs01.simulandlabs.com</td>\n",
       "      <td>S-1-5-21-2490359158-13971675-3780420524-1105</td>\n",
       "      <td>pgustavo</td>\n",
       "      <td>pgustavo</td>\n",
       "      <td>simulandlabs.com</td>\n",
       "      <td>simulandlabs.com</td>\n",
       "      <td>192.168.2.5</td>\n",
       "      <td>53163</td>\n",
       "      <td>dc01.simulandlabs.com</td>\n",
       "      <td>192.168.2.4</td>\n",
       "      <td>49668</td>\n",
       "      <td>aead923d-498b-4f64-a66c-2af91447a8b6</td>\n",
       "      <td>3ab932f1-c0d9-4c09-bb4d-dfc0852bbdf7_106830890_1627909982057_20940</td>\n",
       "      <td>3ab932f1-c0d9-4c09-bb4d-dfc0852bbdf7_106830890_1627909982057_20940</td>\n",
       "      <td>600599</td>\n",
       "      <td>Directory Services replication</td>\n",
       "    </tr>\n",
       "    <tr>\n",
       "      <td>2021-08-02T13:08:18.374Z</td>\n",
       "      <td>adfs01.simulandlabs.com</td>\n",
       "      <td>adfs01.simulandlabs.com</td>\n",
       "      <td>adfs01.simulandlabs.com</td>\n",
       "      <td>adfs01.simulandlabs.com</td>\n",
       "      <td>adfs01.simulandlabs.com</td>\n",
       "      <td>adfs01.simulandlabs.com</td>\n",
       "      <td>adfs01.simulandlabs.com</td>\n",
       "      <td>S-1-5-21-2490359158-13971675-3780420524-1105</td>\n",
       "      <td>pgustavo</td>\n",
       "      <td>pgustavo</td>\n",
       "      <td>simulandlabs.com</td>\n",
       "      <td>simulandlabs.com</td>\n",
       "      <td>192.168.2.5</td>\n",
       "      <td>53115</td>\n",
       "      <td>dc01.simulandlabs.com</td>\n",
       "      <td>192.168.2.4</td>\n",
       "      <td>49668</td>\n",
       "      <td>aead923d-498b-4f64-a66c-2af91447a8b6</td>\n",
       "      <td>85a25128-abab-4d26-8906-5fe01c1afe17_106830890_1627909698374_20940</td>\n",
       "      <td>85a25128-abab-4d26-8906-5fe01c1afe17_106830890_1627909698374_20940</td>\n",
       "      <td>600599</td>\n",
       "      <td>Directory Services replication</td>\n",
       "    </tr>\n",
       "  </tbody>\n",
       "</table>"
      ]
     },
     "metadata": {},
     "output_type": "display_data"
    }
   ],
   "source": [
    "additional_events = mde_events\n",
    "                    WHERE (device.hostname LIKE '%dc01%' OR device.hostname LIKE '%adfs01%')\n",
    "                      AND type_name != \"LdapSearch\" # exclude the LdapSearch we already explored\n",
    "\n",
    "DISP additional_events"
   ]
  },
  {
   "cell_type": "markdown",
   "id": "a12467bb",
   "metadata": {},
   "source": [
    "During the ldapsearch we see that there was a user with details that were changed?\n",
    "\n",
    "Let's zoom into the strange part:"
   ]
  },
  {
   "cell_type": "code",
   "execution_count": 12,
   "id": "91ec7426",
   "metadata": {},
   "outputs": [
    {
     "data": {
      "text/html": [
       "<table border=\"1\" class=\"dataframe\">\n",
       "  <thead>\n",
       "    <tr style=\"text-align: right;\">\n",
       "      <th>endpoint.hostname</th>\n",
       "      <th>uid</th>\n",
       "      <th>name</th>\n",
       "      <th>domain</th>\n",
       "    </tr>\n",
       "  </thead>\n",
       "  <tbody>\n",
       "    <tr>\n",
       "      <td>adfs01.simulandlabs.com</td>\n",
       "      <td>S-1-5-21-2490359158-13971675-3780420524-1105</td>\n",
       "      <td>pgustavo</td>\n",
       "      <td>simulandlabs.com</td>\n",
       "    </tr>\n",
       "  </tbody>\n",
       "</table>"
      ]
     },
     "metadata": {},
     "output_type": "display_data"
    },
    {
     "data": {
      "text/html": [
       "<table border=\"1\" class=\"dataframe\">\n",
       "  <thead>\n",
       "    <tr style=\"text-align: right;\">\n",
       "      <th>endpoint.hostname</th>\n",
       "      <th>name</th>\n",
       "      <th>domain</th>\n",
       "      <th>uid</th>\n",
       "    </tr>\n",
       "  </thead>\n",
       "  <tbody>\n",
       "    <tr>\n",
       "      <td>adfs01.simulandlabs.com</td>\n",
       "      <td>pgustavo</td>\n",
       "      <td>simulandlabs.com</td>\n",
       "      <td>aead923d-498b-4f64-a66c-2af91447a8b6</td>\n",
       "    </tr>\n",
       "  </tbody>\n",
       "</table>"
      ]
     },
     "metadata": {},
     "output_type": "display_data"
    }
   ],
   "source": [
    "additional_events_actor = FIND user ORIGINATED additional_events\n",
    "DISP additional_events_actor\n",
    "\n",
    "additional_events_user = FIND user RESPONDED additional_events\n",
    "DISP additional_events_user"
   ]
  },
  {
   "cell_type": "markdown",
   "id": "253f1b75",
   "metadata": {},
   "source": [
    "Let's follow that trail around to the other datasources."
   ]
  },
  {
   "cell_type": "code",
   "execution_count": 13,
   "id": "9f8ef737",
   "metadata": {},
   "outputs": [
    {
     "data": {
      "text/html": [
       "<table border=\"1\" class=\"dataframe\">\n",
       "  <thead>\n",
       "    <tr style=\"text-align: right;\">\n",
       "      <th>time</th>\n",
       "      <th>device.uid</th>\n",
       "      <th>actor.user.endpoint.uid</th>\n",
       "      <th>http_request.user_agent</th>\n",
       "      <th>entity.uid</th>\n",
       "      <th>entity.type</th>\n",
       "      <th>entity.name</th>\n",
       "      <th>entity.data</th>\n",
       "      <th>actor.user.uid</th>\n",
       "      <th>actor.user.name</th>\n",
       "      <th>privileges</th>\n",
       "      <th>type_uid</th>\n",
       "      <th>type_name</th>\n",
       "      <th>status_id</th>\n",
       "    </tr>\n",
       "  </thead>\n",
       "  <tbody>\n",
       "    <tr>\n",
       "      <td>2021-08-02T13:29:25.983Z</td>\n",
       "      <td>00000000-0000-0000-0000-000000000000</td>\n",
       "      <td>00000000-0000-0000-0000-000000000000</td>\n",
       "      <td>Mozilla/5.0 (Windows NT; Windows NT 10.0; en-US) WindowsPowerShell/5.1.17763.1971</td>\n",
       "      <td>11b49e19-2326-4be6-93cb-7f37439bbd81</td>\n",
       "      <td>Application</td>\n",
       "      <td>SimuLandApp</td>\n",
       "      <td>[{\"id\": \"11b49e19-2326-4be6-93cb-7f37439bbd81\", \"displayName\": \"SimuLandApp\", \"type\": \"Application\", \"modifiedProperties\": [{\"displayName\": \"KeyDescription\", \"oldValue\": \"[]\", \"newValue\": \"[\\\"[KeyIdentifier=59eaeebc-8a6b-44a6-9f24-7d55e64420c9,KeyType=Password,KeyUsage=Verify,DisplayName=SimuLandCreds]\\\"]\"}, {\"displayName\": \"Included Updated Properties\", \"oldValue\": null, \"newValue\": \"\\\"KeyDescription\\\"\"}], \"administrativeUnits\": []}]</td>\n",
       "      <td>aead923d-498b-4f64-a66c-2af91447a8b6</td>\n",
       "      <td>pgustavo@simulandlabs.com</td>\n",
       "      <td>None</td>\n",
       "      <td>300403</td>\n",
       "      <td>Update application – Certificates and secrets management</td>\n",
       "      <td>1</td>\n",
       "    </tr>\n",
       "    <tr>\n",
       "      <td>2021-08-02T13:25:12.246Z</td>\n",
       "      <td>00000000-0000-0000-0000-000000000000</td>\n",
       "      <td>00000000-0000-0000-0000-000000000000</td>\n",
       "      <td>Mozilla/5.0 (Windows NT; Windows NT 10.0; en-US) WindowsPowerShell/5.1.17763.1971</td>\n",
       "      <td>11b49e19-2326-4be6-93cb-7f37439bbd81</td>\n",
       "      <td>Application</td>\n",
       "      <td>SimuLandApp</td>\n",
       "      <td>[{\"id\": \"11b49e19-2326-4be6-93cb-7f37439bbd81\", \"displayName\": \"SimuLandApp\", \"type\": \"Application\", \"modifiedProperties\": [{\"displayName\": \"RequiredResourceAccess\", \"oldValue\": \"[{\\\"ResourceAppId\\\":\\\"00000003-0000-0000-c000-000000000000\\\",\\\"RequiredAppPermissions\\\":[{\\\"EntitlementId\\\":\\\"e1fe6dd8-ba31-4d61-89e7-88639da4683d\\\",\\\"DirectAccessGrant\\\":false,\\\"ImpersonationAccessGrants\\\":[20]}],\\\"EncodingVersion\\\":1}]\", \"newValue\": \"[{\\\"ResourceAppId\\\":\\\"00000003-0000-0000-c000-000000000000\\\",\\\"RequiredAppPermissions\\\":[{\\\"EntitlementId\\\":\\\"e1fe6dd8-ba31-4d61-89e7-88639da4683d\\\",\\\"DirectAccessGrant\\\":false,\\\"ImpersonationAccessGrants\\\":[20]},{\\\"EntitlementId\\\":\\\"024d486e-b451-40bb-833d-3e66d98c5c73\\\",\\\"DirectAccessGrant\\\":false,\\\"ImpersonationAccessGrants\\\":[20]}],\\\"EncodingVersion\\\":1}]\"}, {\"displayName\": \"Included Updated Properties\", \"oldValue\": null, \"newValue\": \"\\\"RequiredResourceAccess\\\"\"}], \"administrativeUnits\": []}]</td>\n",
       "      <td>aead923d-498b-4f64-a66c-2af91447a8b6</td>\n",
       "      <td>pgustavo@simulandlabs.com</td>\n",
       "      <td>None</td>\n",
       "      <td>300403</td>\n",
       "      <td>Update application</td>\n",
       "      <td>1</td>\n",
       "    </tr>\n",
       "    <tr>\n",
       "      <td>2021-08-02T13:27:20.017Z</td>\n",
       "      <td>00000000-0000-0000-0000-000000000000</td>\n",
       "      <td>00000000-0000-0000-0000-000000000000</td>\n",
       "      <td>Mozilla/5.0 (Windows NT; Windows NT 10.0; en-US) WindowsPowerShell/5.1.17763.1971</td>\n",
       "      <td>None</td>\n",
       "      <td>ServicePrincipal</td>\n",
       "      <td>None</td>\n",
       "      <td>[{\"id\": \"401dd906-ea4f-4d41-b762-7e936d222368\", \"displayName\": \"Microsoft Graph\", \"type\": \"ServicePrincipal\", \"modifiedProperties\": [{\"displayName\": \"DelegatedPermissionGrant.Scope\", \"oldValue\": \"\\\"User.Read\\\"\", \"newValue\": \"\\\"User.Read Mail.ReadWrite\\\"\"}, {\"displayName\": \"DelegatedPermissionGrant.ConsentType\", \"oldValue\": \"\\\"AllPrincipals\\\"\", \"newValue\": \"\\\"AllPrincipals\\\"\"}, {\"displayName\": \"ServicePrincipal.ObjectID\", \"oldValue\": null, \"newValue\": \"\\\"0d2f5969-011b-460d-ac74-3291d227d49f\\\"\"}, {\"displayName\": \"ServicePrincipal.DisplayName\", \"oldValue\": null, \"newValue\": null}, {\"displayName\": \"ServicePrincipal.AppId\", \"oldValue\": null, \"newValue\": null}, {\"displayName\": \"ServicePrincipal.Name\", \"oldValue\": null, \"newValue\": null}, {\"displayName\": \"TargetId.ServicePrincipalNames\", \"oldValue\": null, \"newValue\": \"\\\"00000003-0000-0000-c000-000000000000/ags.windows.net;00000003-0000-0000-c000-000000000000;https://canary.graph.microsoft.com;https://graph.microsoft.com;https://ags.windows.net;https://graph.microsoft.us;https://graph.microsoft.com/;https://dod-graph.microsoft.us;https://canary.graph.microsoft.com/;https://graph.microsoft.us/;https://dod-graph.microsoft.us/\\\"\"}], \"administrativeUnits\": []}, {\"id\": \"0d2f5969-011b-460d-ac74-3291d227d49f\", \"displayName\": null, \"type\": \"ServicePrincipal\", \"modifiedProperties\": [], \"administrativeUnits\": []}]</td>\n",
       "      <td>aead923d-498b-4f64-a66c-2af91447a8b6</td>\n",
       "      <td>pgustavo@simulandlabs.com</td>\n",
       "      <td>User.Read Mail.ReadWrite</td>\n",
       "      <td>300501</td>\n",
       "      <td>Add delegated permission grant</td>\n",
       "      <td>1</td>\n",
       "    </tr>\n",
       "  </tbody>\n",
       "</table>"
      ]
     },
     "metadata": {},
     "output_type": "display_data"
    }
   ],
   "source": [
    "aad_related_events = GET event FROM sqlalchemy://GoldenSAML-AADAuditEvents\n",
    "                     WHERE actor.user.uid = additional_events_actor.uid\n",
    "                        OR actor.user.uid = additional_events_user.uid\n",
    "\n",
    "DISP aad_related_events"
   ]
  },
  {
   "cell_type": "markdown",
   "id": "1d60783a",
   "metadata": {},
   "source": [
    "We see that user doing interesting Application actions with a user_agent showing PowerShell.  Could this be related to the other malicious activity observed using PowerShell?  There are also privileges added and referencing Microsoft Graph.  Why would a user access their own mailbox with an API? Let's see if those privileges were successfully used.\n",
    "\n",
    "We have found activity for:\n",
    "  - T1098.002: Additional Email Delegate Permissions\n",
    "  - T1134: Access Token Manipulation"
   ]
  },
  {
   "cell_type": "code",
   "execution_count": 14,
   "id": "9e89b38d",
   "metadata": {},
   "outputs": [
    {
     "data": {
      "text/html": [
       "<table border=\"1\" class=\"dataframe\">\n",
       "  <thead>\n",
       "    <tr style=\"text-align: right;\">\n",
       "      <th>time</th>\n",
       "      <th>user.uid</th>\n",
       "      <th>query_info.uid</th>\n",
       "      <th>entity.uid</th>\n",
       "      <th>entity.data</th>\n",
       "      <th>privileges</th>\n",
       "      <th>type_uid</th>\n",
       "      <th>type_name</th>\n",
       "    </tr>\n",
       "  </thead>\n",
       "  <tbody>\n",
       "    <tr>\n",
       "      <td>2021-08-02T13:27:20Z</td>\n",
       "      <td>aead923d-498b-4f64-a66c-2af91447a8b6</td>\n",
       "      <td>106830890_11161_e417c1fd-ae0b-4efa-891b-bb6b0ea7d35e</td>\n",
       "      <td>106830890_11161_e417c1fd-ae0b-4efa-891b-bb6b0ea7d35e</td>\n",
       "      <td>[{\"ApplicationInstance\": 0, \"ApplicationId\": 11161, \"Type\": \"User\", \"Role\": \"Actor\", \"Name\": \"Gustavo Pedro\", \"Id\": \"aead923d-498b-4f64-a66c-2af91447a8b6\"}]</td>\n",
       "      <td>User.Read Mail.ReadWrite</td>\n",
       "      <td>300501</td>\n",
       "      <td>Add delegated permission grant.</td>\n",
       "    </tr>\n",
       "  </tbody>\n",
       "</table>"
      ]
     },
     "metadata": {},
     "output_type": "display_data"
    }
   ],
   "source": [
    "priv_mde = mde_events WHERE privileges LIKE \"%Mail.ReadWrite%\"\n",
    "\n",
    "DISP priv_mde SORT BY time ASC"
   ]
  },
  {
   "cell_type": "markdown",
   "id": "63f2f14c",
   "metadata": {},
   "source": [
    "Finally, Let's see if the application was access"
   ]
  },
  {
   "cell_type": "code",
   "execution_count": 15,
   "id": "1f2b4a1a",
   "metadata": {},
   "outputs": [
    {
     "data": {
      "text/html": [
       "<table border=\"1\" class=\"dataframe\">\n",
       "  <thead>\n",
       "    <tr style=\"text-align: right;\">\n",
       "      <th>endpoint.uid</th>\n",
       "      <th>uid</th>\n",
       "      <th>name</th>\n",
       "    </tr>\n",
       "  </thead>\n",
       "  <tbody>\n",
       "    <tr>\n",
       "      <td>00000000-0000-0000-0000-000000000000</td>\n",
       "      <td>aead923d-498b-4f64-a66c-2af91447a8b6</td>\n",
       "      <td>pgustavo@simulandlabs.com</td>\n",
       "    </tr>\n",
       "  </tbody>\n",
       "</table>"
      ]
     },
     "metadata": {},
     "output_type": "display_data"
    },
    {
     "data": {
      "text/html": [
       "<table border=\"1\" class=\"dataframe\">\n",
       "  <thead>\n",
       "    <tr style=\"text-align: right;\">\n",
       "      <th>time</th>\n",
       "      <th>src_endpoint.ip</th>\n",
       "      <th>type_name</th>\n",
       "      <th>entity.type</th>\n",
       "      <th>entity.data</th>\n",
       "      <th>actor.user.uid</th>\n",
       "      <th>actor.user.name</th>\n",
       "    </tr>\n",
       "  </thead>\n",
       "  <tbody>\n",
       "    <tr>\n",
       "      <td>2021-08-02T13:32:07Z</td>\n",
       "      <td>1.2.3.4</td>\n",
       "      <td>MailItemsAccessed</td>\n",
       "      <td>OfficeActivity</td>\n",
       "      <td>[{\"FolderItems\": [{\"InternetMessageId\": \"&lt;00000000-0000-0000-0000-000000000000@az.centralus.production.microsoft.com&gt;\"}, {\"InternetMessageId\": \"&lt;AB1CD23EF4567DAC24353B8AD047DDEB0B1EB9@AB1CD23EF4567.abcdef12.prod.outlook.com&gt;\"}, {\"InternetMessageId\": \"&lt;00000000-0000-0000-0000-000000000000@az.southcentralus.production.microsoft.com&gt;\"}, {\"InternetMessageId\": \"&lt;00000000-0000-0000-0000-000000000000@az.eastus.production.microsoft.com&gt;\"}, {\"InternetMessageId\": \"&lt;00000000-0000-0000-0000-000000000000@az.northcentralus.production.microsoft.com&gt;\"}, {\"InternetMessageId\": \"&lt;00000000-0000-0000-0000-000000000000@az.northcentralus.production.microsoft.com&gt;\"}, {\"InternetMessageId\": \"&lt;00000000-0000-0000-0000-000000000000@az.westus2.production.microsoft.com&gt;\"}], \"Id\": \"LgAAAAAM7KyTTmWeRac2KXBEz/7aAQARGHK+grzLTpRJraC1QR6kAAAAAAEMAAAB\", \"Path\": \"\\\\Inbox\"}]</td>\n",
       "      <td>S-1-5-21-1825954961-3338807533-2873504967-26087451</td>\n",
       "      <td>pgustavo@simulandlabs.com</td>\n",
       "    </tr>\n",
       "  </tbody>\n",
       "</table>"
      ]
     },
     "metadata": {},
     "output_type": "display_data"
    }
   ],
   "source": [
    "aad_users = FIND user ORIGINATED aad_related_events\n",
    "\n",
    "DISP aad_users\n",
    "\n",
    "uid_office = GET event\n",
    "             FROM sqlalchemy://GoldenSAML-OfficeActivityEvents\n",
    "             WHERE actor.user.name = aad_users.name\n",
    "\n",
    "DISP uid_office ATTR time, src_endpoint.ip, type_name, entity.type, entity.data, actor.user.uid, actor.user.name"
   ]
  },
  {
   "cell_type": "code",
   "execution_count": null,
   "id": "4df3bf26",
   "metadata": {},
   "outputs": [],
   "source": []
  }
 ],
 "metadata": {
  "kernelspec": {
   "display_name": "Kestrel",
   "language": "kestrel",
   "name": "kestrel"
  },
  "language_info": {
   "file_extension": ".hf",
   "name": "kestrel"
  }
 },
 "nbformat": 4,
 "nbformat_minor": 5
}
