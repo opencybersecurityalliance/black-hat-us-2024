{
 "cells": [
  {
   "attachments": {
    "GoldenSAML__blackhat%284%29.svg": {
     "image/svg+xml": [
      "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"
     ]
    }
   },
   "cell_type": "markdown",
   "id": "dd18bafd",
   "metadata": {},
   "source": [
    "# Golden SAML AD FS Mail Access Hunt\n",
    "\n",
    "### Scope the Environment\n",
    "- Identity Provider (IdP) -  On-Prem Active Directory Federation Services (AD FS) server w/ Azure AD Connect\n",
    "- Cloud Service Provider (SP) - Microsoft 365 (Mail, Defender)\n",
    "- On-Prem Workstations\n",
    "\n",
    "### Dataset\n",
    "https://securitydatasets.com/notebooks/compound/GoldenSAMLADFSMailAccess.html\n",
    "- WindowsEvents.Zip\n",
    "- Microsoft365DefenderEvents.Zip\n",
    "- AADAuditEvents.Zip\n",
    "- OfficeActivityEvents.Zip\n",
    "\n",
    "#### Simple Data Ingestion\n",
    "\n",
    "All data is unzipped and loaded to two SQlite stores (SQL-supported lakehouse simulation) using [kestrel-tool::mkdb](https://github.com/opencybersecurityalliance/kestrel-lang/blob/develop/packages/kestrel_tool/src/kestrel_tool/mkdb.py)\n",
    "\n",
    "#### Simulated On-premise Datastore `sqlite:///onpremise.db`\n",
    "\n",
    "| Data File | Datastore Index | Kestrel Datasource | ........................................................................................................................................................................ |\n",
    "| :------- | :------ | :------ | ------- |\n",
    "| WindowsEvents.Zip | windows | GoldenSAML-WindowsEvents ||\n",
    "\n",
    "#### Simulated Cloud Datastore `sqlite:///cloud.db`\n",
    "\n",
    "| Data File | Datastore Index | Kestrel Datasource | .............................................................................................................................. |\n",
    "| :------- | :------ | :------ | ------- |\n",
    "| Microsoft365DefenderEvents.Zip | msdefender | GoldenSAML-Microsoft365DefenderEvents||\n",
    "| AADAuditEvents.Zip | aad | GoldenSAML-AADAuditEvents ||\n",
    "| OfficeActivityEvents.Zip | office | GoldenSAML-OfficeActivityEvents||\n",
    "\n",
    "### Campaign Hypothesis\n",
    "Cyber Threat Actor (CTA) will compromise the organization's identity provider (AD FS) and attempt to obtain the private key used for signing SAML tokens, to then forge a valid SAML token that will impersonate a legitimate user to access sensitive data hosted by the organization's cloud service provider (Microsoft 365). \n",
    "\n",
    "#### Mitre Att&ck Mapping\n",
    "![GoldenSAML__blackhat%284%29.svg](attachment:GoldenSAML__blackhat%284%29.svg)\n",
    "\n",
    "## Steps in This Huntbook\n",
    "\n",
    "1. Read the [GoldenSAML blog](https://www.cyberark.com/resources/threat-research-blog/golden-saml-newly-discovered-attack-technique-forges-authentication-to-cloud-apps) to understand the generic attack flow\n",
    "2. Develop the threat hypothesis around the [SimuLand GoldenSAML attack simulation](https://simulandlabs.com/labs/GoldenSAML/README.html)\n",
    "3. Using the blog, attack simulation, and Mitre mapping above, develop hunt analytics around:\n",
    "    - [T1003 - OS Credential Dumping](https://attack.mitre.org/techniques/T1003/)\n",
    "    - [T1087.002 - Account Discovery: Domain Account](https://attack.mitre.org/techniques/T1087/002/)\n",
    "    - [T1098.002: Additional Email Delegate Permissions](https://attack.mitre.org/techniques/T1098/002/)\n",
    "    - [T1134: Access Token Manipulation](https://attack.mitre.org/techniques/T1134/)\n",
    "    - [T1552.004 - Unsecured Credentials: Private Keys](https://attack.mitre.org/techniques/T1552/004/)\n",
    "4. Move across multiple data sources to verify different phases of the attack from multiple angles (already written in this huntbook)\n",
    "5. **Execute this huntbook and report your findings**\n",
    "6. Further drill down\n",
    "    - Add new cells in this huntbook to explore other paths of the hunt\n",
    "    - Explore other aspects of the attack with any *[Quiz]* huntbook in the same folder\n",
    "    - Check the *Kestrel Execution Explained* huntbook to get a basic idea of the Kestrel abstraction"
   ]
  },
  {
   "cell_type": "code",
   "execution_count": null,
   "id": "64b1947a",
   "metadata": {},
   "outputs": [],
   "source": [
    "# Let's first understand what data we have available in our datasets\n",
    "# `type_uid` is a required attribute of OCSF event/activity\n",
    "# type_uid LIKE '%' means any event\n",
    "\n",
    "win_events = GET event FROM sqlalchemy://GoldenSAML-WindowsEvents\n",
    "             WHERE type_uid LIKE '%'\n",
    "             START 2021-08-02T00:00:00.000Z STOP 2021-08-03T00:00:00.000Z\n",
    "\n",
    "# We use customized OCSF field `event_id` for holding raw event id (if exist in source)\n",
    "# We use OCSF field `type_name` for holding event name\n",
    "\n",
    "DISP win_events ATTR event_id, type_name"
   ]
  },
  {
   "cell_type": "code",
   "execution_count": null,
   "id": "ba5b7a7d",
   "metadata": {},
   "outputs": [],
   "source": [
    "mde_events = GET event FROM sqlalchemy://GoldenSAML-Microsoft365DefenderEvents\n",
    "             WHERE type_uid LIKE '%'\n",
    "             START 2021-08-02T00:00:00.000Z STOP 2021-08-03T00:00:00.000Z\n",
    " \n",
    "DISP mde_events ATTR type_name"
   ]
  },
  {
   "cell_type": "code",
   "execution_count": null,
   "id": "328247e3",
   "metadata": {},
   "outputs": [],
   "source": [
    "aad_events = GET event FROM sqlalchemy://GoldenSAML-AADAuditEvents\n",
    "             WHERE type_uid LIKE '%'\n",
    "             START 2021-08-02T00:00:00.000Z STOP 2021-08-03T00:00:00.000Z\n",
    "\n",
    "DISP aad_events ATTR type_name"
   ]
  },
  {
   "cell_type": "code",
   "execution_count": null,
   "id": "e4e56c3f",
   "metadata": {},
   "outputs": [],
   "source": [
    "office_events = GET event FROM sqlalchemy://GoldenSAML-OfficeActivityEvents\n",
    "                WHERE type_uid LIKE '%'\n",
    "                START 2021-08-02T00:00:00.000Z STOP 2021-08-03T00:00:00.000Z\n",
    "\n",
    "DISP office_events ATTR type_name"
   ]
  },
  {
   "cell_type": "markdown",
   "id": "cf26e7fc",
   "metadata": {},
   "source": [
    "Now that we know what type of events we have available to use.  Let's see how these events apply to the attack\n",
    "steps that were broken down in [Simulandlabs Golden SAML Overview](https://simulandlabs.com/labs/GoldenSAML/README.html).\n",
    "\n",
    "The steps show that the actor would need to:\n",
    "- Export the AD FS Configuration\n",
    "- Export the AD FS DKM Master Key to decrypt the private key\n",
    "- Export the AD FS Certificates\n",
    "- Forge the SAML Tokens\n",
    "- Get OAuth Access Token with SAML Assertion\n",
    "- Finally, access mail messages using MS Graph\n",
    "\n",
    "\n",
    "A few of these steps we may not be able to see because they can be conducted locally on the attacker's system.  Let's see what we can identify!!\n",
    "\n",
    "Let's start by looking for any activity around the AD FS configuration.  Doing a quick Google search shows us that\n",
    "[configuration](https://learn.microsoft.com/en-us/windows-server/identity/ad-fs/technical-reference/the-role-of-the-ad-fs-configuration-database) resides in the Windows Internal Database (WID) or a SQL Server.\n",
    "\n",
    "What events can we see that might point us towards a database?\n",
    "\n",
    "Windows Event ID [33205](https://www.ultimatewindowssecurity.com/sqlserver/auditlog/sampleevent.aspx) shows us SQL Server Audit events."
   ]
  },
  {
   "cell_type": "code",
   "execution_count": null,
   "id": "61b90f13",
   "metadata": {},
   "outputs": [],
   "source": [
    "# Let's write a query to view all events from Event ID 33205\n",
    "\n",
    "sql_events = GET event FROM sqlalchemy://GoldenSAML-WindowsEvents\n",
    "             WHERE event_id = 33205\n",
    "\n",
    "# an alternative way is to use filter from our previous variable `win_events`\n",
    "#sql_events = win_events WHERE event_id = 33205\n",
    "             \n",
    "DISP sql_events"
   ]
  },
  {
   "cell_type": "markdown",
   "id": "37da5e3d",
   "metadata": {},
   "source": [
    "There is not a lot of information from this event but we can see that some action happened on our `adfs01` host.\n",
    "\n",
    "Let's see if there are other events around that host. "
   ]
  },
  {
   "cell_type": "code",
   "execution_count": null,
   "id": "1f72f69f",
   "metadata": {},
   "outputs": [],
   "source": [
    "procs = GET process FROM sqlalchemy://GoldenSAML-WindowsEvents\n",
    "        WHERE endpoint.hostname LIKE \"%adfs01%\"\n",
    "\n",
    "# an alternative way is to use FIND from our previous variable `win_events`\n",
    "#procs = FIND process RESPONDED win_events\n",
    "#        WHERE endpoint.hostname LIKE \"%adfs01%\"\n",
    "\n",
    "DISP procs ATTR name, pid, endpoint.hostname"
   ]
  },
  {
   "cell_type": "markdown",
   "id": "e40c9acf",
   "metadata": {},
   "source": [
    "There is a powershell process that's running on `adfs01`. Let's see what that process is doing."
   ]
  },
  {
   "cell_type": "code",
   "execution_count": null,
   "id": "983fd1a5",
   "metadata": {},
   "outputs": [],
   "source": [
    "powershell_event = FIND event RESPONDED BY procs\n",
    "\n",
    "DISP powershell_event"
   ]
  },
  {
   "cell_type": "markdown",
   "id": "12d2296f",
   "metadata": {},
   "source": [
    "This PowerShell process is running a query to the `WID` on `ADFS01`.  Someone is interacting with our WID database!\n",
    "Let's see if defender caught any activity from this process id."
   ]
  },
  {
   "cell_type": "code",
   "execution_count": null,
   "id": "88e678f6",
   "metadata": {},
   "outputs": [],
   "source": [
    "powershell_mde_events = GET event FROM sqlalchemy://GoldenSAML-Microsoft365DefenderEvents\n",
    "                        WHERE actor.process.pid = procs.pid\n",
    "                          AND device.hostname = procs.endpoint.hostname\n",
    "\n",
    "DISP powershell_mde_events ATTR time, type_name, device.hostname SORT BY time ASC\n",
    "\n",
    "\n",
    "mde_actor_procs = FIND process ORIGINATED mde_events\n",
    "DISP mde_actor_procs\n",
    "\n",
    "\n",
    "mde_actor_users = FIND user ORIGINATED mde_events\n",
    "DISP mde_actor_users"
   ]
  },
  {
   "cell_type": "markdown",
   "id": "fd1339e0",
   "metadata": {},
   "source": [
    "Using the PowerShell `PID`, we are able to see that there are also `ldapsearch` queries executing on `ADFS01` and who is executing those queries. What are those `ldapsearch` events doing?"
   ]
  },
  {
   "cell_type": "code",
   "execution_count": null,
   "id": "1d9e93b3",
   "metadata": {},
   "outputs": [],
   "source": [
    "ldap_query = FIND query_info RESPONDED BY powershell_mde_events\n",
    "\n",
    "DISP ldap_query"
   ]
  },
  {
   "cell_type": "markdown",
   "id": "d25af071",
   "metadata": {},
   "source": [
    "We see a few things that are interesting from the `attr_list`.  There is a mention of `thumbnailphoto`, where if we do a quick Google search for `adfs` and `thumbnailphoto`, we can see that this is a way from the actor to access the [Distributed Key Manager](https://threathunterplaybook.com/library/windows/adfs_dkm_keys.html) (DKM) Keys. \n",
    "\n",
    "Looking back at the steps that the actor needs to accomplish, we can see evidence that the actor has moved to Step 2.  There is an attribute value listed in the `search_filter` as well as searching for `users` in the `Domain Admins` group.  We may be able to hunt for more activity based on these items.\n",
    "\n",
    "\n",
    "So far we have found activity for:\n",
    "  - T1087.002 - Account Discovery: Domain Account\n",
    "  - T1552.004 - Unsecured Credentials: Private Keys\n",
    "  \n",
    "  \n",
    "Let's take a look at our win events for anything that might catch ADFS objects since the attribute value might be an object value."
   ]
  },
  {
   "cell_type": "code",
   "execution_count": null,
   "id": "8dd1592e",
   "metadata": {
    "scrolled": false
   },
   "outputs": [],
   "source": [
    "thumbnail_object = GET entity FROM sqlalchemy://GoldenSAML-WindowsEvents\n",
    "                   WHERE uid LIKE '%9736f74f-fd37-4b02-80e8-8120a72ad6c2%'\n",
    "\n",
    "# an alternative way is to use FIND from our previous variable `win_events`\n",
    "#thumbnail_object = FIND managed_entity RESPONDED win_events\n",
    "#                   WHERE uid LIKE '%9736f74f-fd37-4b02-80e8-8120a72ad6c2%'\n",
    "\n",
    "DISP thumbnail_object\n",
    "\n",
    "thumbnail_user = FIND user READ thumbnail_object\n",
    "DISP thumbnail_user\n",
    "\n",
    "thumbnail_event = FIND event RESPONDED BY thumbnail_object\n",
    "DISP thumbnail_event ATTR time, event_id, type_uid, type_name, device.hostname SORT BY time ASC"
   ]
  },
  {
   "cell_type": "markdown",
   "id": "723e9c1f",
   "metadata": {},
   "source": [
    "Looks like we see activity that is based off of the previous AD Object.  Windows Event ID `4662` shows any time an AD object was accessed and from what system that activity took place on.  If we look at the `entity.data` this looks like guids from additional objects and the range looks like this might be enumeration.  For how quickly these calls are being made, this looks very automated.  What tool might be able to do this type of activity on a DC?  \n",
    "\n",
    "We have found activity for:\n",
    "  - T1003 - OS Credential Dumping\n",
    "  \n",
    "  \n",
    "We also have a rough time of the start of the attack `2021-08 13:11:00`\n",
    "\n",
    "What other events happened around that time?\n",
    "\n",
    "Let's see what was captured by MDE?"
   ]
  },
  {
   "cell_type": "code",
   "execution_count": null,
   "id": "5335fabb",
   "metadata": {},
   "outputs": [],
   "source": [
    "additional_events = mde_events\n",
    "                    WHERE (device.hostname LIKE '%dc01%' OR device.hostname LIKE '%adfs01%')\n",
    "                      AND type_name != \"LdapSearch\" # exclude the LdapSearch we already explored\n",
    "\n",
    "DISP additional_events"
   ]
  },
  {
   "cell_type": "markdown",
   "id": "a12467bb",
   "metadata": {},
   "source": [
    "During the ldapsearch we see that there was a user with details that were changed?\n",
    "\n",
    "Let's zoom into the strange part:"
   ]
  },
  {
   "cell_type": "code",
   "execution_count": null,
   "id": "91ec7426",
   "metadata": {},
   "outputs": [],
   "source": [
    "additional_events_actor = FIND user ORIGINATED additional_events\n",
    "DISP additional_events_actor\n",
    "\n",
    "additional_events_user = FIND user RESPONDED additional_events\n",
    "DISP additional_events_user"
   ]
  },
  {
   "cell_type": "markdown",
   "id": "253f1b75",
   "metadata": {},
   "source": [
    "Let's follow that trail around to the other datasources."
   ]
  },
  {
   "cell_type": "code",
   "execution_count": null,
   "id": "9f8ef737",
   "metadata": {},
   "outputs": [],
   "source": [
    "aad_related_events = GET event FROM sqlalchemy://GoldenSAML-AADAuditEvents\n",
    "                     WHERE actor.user.uid = additional_events_actor.uid\n",
    "                        OR actor.user.uid = additional_events_user.uid\n",
    "\n",
    "DISP aad_related_events"
   ]
  },
  {
   "cell_type": "markdown",
   "id": "1d60783a",
   "metadata": {},
   "source": [
    "We see that user doing interesting Application actions with a user_agent showing PowerShell.  Could this be related to the other malicious activity observed using PowerShell?  There are also privileges added and referencing Microsoft Graph.  Why would a user access their own mailbox with an API? Let's see if those privileges were successfully used.\n",
    "\n",
    "We have found activity for:\n",
    "  - T1098.002: Additional Email Delegate Permissions\n",
    "  - T1134: Access Token Manipulation"
   ]
  },
  {
   "cell_type": "code",
   "execution_count": null,
   "id": "9e89b38d",
   "metadata": {},
   "outputs": [],
   "source": [
    "priv_mde = mde_events WHERE privileges LIKE \"%Mail.ReadWrite%\"\n",
    "\n",
    "DISP priv_mde SORT BY time ASC"
   ]
  },
  {
   "cell_type": "markdown",
   "id": "63f2f14c",
   "metadata": {},
   "source": [
    "Finally, Let's see if the application was access"
   ]
  },
  {
   "cell_type": "code",
   "execution_count": null,
   "id": "1f2b4a1a",
   "metadata": {},
   "outputs": [],
   "source": [
    "aad_users = FIND user ORIGINATED aad_related_events\n",
    "\n",
    "DISP aad_users\n",
    "\n",
    "uid_office = GET event\n",
    "             FROM sqlalchemy://GoldenSAML-OfficeActivityEvents\n",
    "             WHERE actor.user.name = aad_users.name\n",
    "\n",
    "DISP uid_office ATTR time, src_endpoint.ip, type_name, entity.type, entity.data, actor.user.uid, actor.user.name"
   ]
  },
  {
   "cell_type": "code",
   "execution_count": null,
   "id": "4df3bf26",
   "metadata": {},
   "outputs": [],
   "source": []
  }
 ],
 "metadata": {
  "kernelspec": {
   "display_name": "Kestrel",
   "language": "kestrel",
   "name": "kestrel"
  },
  "language_info": {
   "file_extension": ".hf",
   "name": "kestrel"
  }
 },
 "nbformat": 4,
 "nbformat_minor": 5
}
