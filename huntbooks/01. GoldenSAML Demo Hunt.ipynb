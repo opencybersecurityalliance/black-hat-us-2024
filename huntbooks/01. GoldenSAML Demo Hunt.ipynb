{
 "cells": [
  {
   "cell_type": "markdown",
   "id": "741e75ab",
   "metadata": {},
   "source": [
    "# Golden SAML AD FS Mail Access Hunt\n",
    "\n",
    "#### Dataset\n",
    "https://securitydatasets.com/notebooks/compound/GoldenSAMLADFSMailAccess.html\n",
    "- WindowsEvents.Zip\n",
    "- Microsoft365DefenderEvents.Zip\n",
    "- AADAuditEvents.Zip\n",
    "- OfficeActivityEvents.Zip\n",
    "\n",
    "#### Simple Data Ingestion\n",
    "\n",
    "All data is unzipped and loaded to two SQlite stores (SQL-supported lakehouse simulation) using [kestrel-tool::mkdb](https://github.com/opencybersecurityalliance/kestrel-lang/blob/develop/packages/kestrel_tool/src/kestrel_tool/mkdb.py)\n",
    "\n",
    "#### Simulated On-premise Datastore `sqlite:///onpremise.db`\n",
    "\n",
    "| Data File | Datastore Index | Kestrel Datasource | ........................................................................................................................................................................ |\n",
    "| :------- | :------ | :------ | ------- |\n",
    "| WindowsEvents.Zip | windows | GoldenSAML-WindowsEvents ||\n",
    "\n",
    "#### Simulated Cloud Datastore `sqlite:///cloud.db`\n",
    "\n",
    "| Data File | Datastore Index | Kestrel Datasource | .............................................................................................................................. |\n",
    "| :------- | :------ | :------ | ------- |\n",
    "| Microsoft365DefenderEvents.Zip | msdefender | GoldenSAML-Microsoft365DefenderEvents||\n",
    "| AADAuditEvents.Zip | aad | GoldenSAML-AADAuditEvents ||\n",
    "| OfficeActivityEvents.Zip | office | GoldenSAML-OfficeActivityEvents||\n",
    "\n",
    "#### Analytics Ready to Use Besides Data Retrieval\n",
    "\n",
    "- `rare-event-detection`: a Python analytics to find rare events from a pool of events. This is an example of hunt steps invoking Turing complete logic besides SQL to support computation like clustering and classification.\n",
    "\n",
    "- `ask-AI`: a simulated LLM cyber agent to answer questions regarding specified fields in a Kestrel variable. The answer is enriched to the Kestrel variable as a new attribute (unmapped OCSF field) `unmapped.gen_ai`. A real OpenAI-API-based Kestrel analytics example can be found at [Kestrel analytics repo](https://github.com/opencybersecurityalliance/kestrel-analytics/tree/release/analytics/openai-suspicious-processes).\n",
    "\n",
    "## Steps in This Huntbook\n",
    "\n",
    "1. Start from Windows events to locate suspicious events (already written in this huntbook)\n",
    "2. Think about potential campaigns, e.g., *GoldenSAML*, from the most suspicious Window event\n",
    "3. Read the [GoldenSAML blog](https://www.cyberark.com/resources/threat-research-blog/golden-saml-newly-discovered-attack-technique-forges-authentication-to-cloud-apps) to understand the generic attack flow\n",
    "4. Develop the threat hypothesis around the [SimuLand GoldenSAML attack simulation](https://simulandlabs.com/labs/GoldenSAML/README.html)\n",
    "5. Move across multiple data sources to verify different phases of the attack from multiple angles (already written in this huntbook)\n",
    "6. **Execute this huntbook and report your findings**\n",
    "7. Further drill down\n",
    "    - Add new cells in this huntbook to explore other paths of the hunt\n",
    "    - Explore other aspects of the attack with any *goldensaml-quiz* huntbook\n",
    "    - Check the *goldensaml-explain-kestrel* huntbook to get a basic idea of the Kestrel abstraction"
   ]
  },
  {
   "cell_type": "code",
   "execution_count": null,
   "id": "ce63bdb3",
   "metadata": {},
   "outputs": [],
   "source": [
    "# start from zero: detect rare events from a single day's Windows logs\n",
    "\n",
    "all_events = GET event FROM sqlalchemy://GoldenSAML-WindowsEvents\n",
    "             WHERE device.hostname LIKE '%'\n",
    "             START 2021-08-02T00:00:00.000Z STOP 2021-08-03T00:00:00.000Z"
   ]
  },
  {
   "cell_type": "code",
   "execution_count": null,
   "id": "4d29cc6d",
   "metadata": {},
   "outputs": [],
   "source": [
    "DISP all_events ATTR time, type_uid, type_name, device.hostname SORT BY time ASC"
   ]
  },
  {
   "cell_type": "code",
   "execution_count": null,
   "id": "3d72bd66",
   "metadata": {},
   "outputs": [],
   "source": [
    "rare_events = all_events\n",
    "\n",
    "# this example analytics (Python function) will filter only rare events by counting\n",
    "APPLY python://rare-event-detection ON rare_events\n",
    "\n",
    "# more details can be provided to the analytics as parameters\n",
    "# APPLY python://rare-event-detection ON rare_events WITH field='type_uid', threshold=5\n",
    "\n",
    "DISP rare_events ATTR time, type_uid, type_name, device.hostname SORT BY time ASC"
   ]
  },
  {
   "cell_type": "code",
   "execution_count": null,
   "id": "9f080d0b",
   "metadata": {},
   "outputs": [],
   "source": [
    "# let's first explore the (the single) network connection event\n",
    "\n",
    "conn_event = rare_events WHERE type_uid = 400101\n",
    "\n",
    "src = FIND network_endpoint ORIGINATED conn_event\n",
    "DISP src\n",
    "\n",
    "dst = FIND network_endpoint RESPONDED conn_event\n",
    "DISP dst"
   ]
  },
  {
   "cell_type": "code",
   "execution_count": null,
   "id": "c3f288fc",
   "metadata": {},
   "outputs": [],
   "source": [
    "# just a connection to localhost:80, nothing suspicious at the current moment"
   ]
  },
  {
   "cell_type": "code",
   "execution_count": null,
   "id": "bdc95b27",
   "metadata": {},
   "outputs": [],
   "source": [
    "# next let's check the pipe event\n",
    "\n",
    "pipe_event = rare_events WHERE type_uid = 100114\n",
    "\n",
    "pipe = FIND file RESPONDED pipe_event\n",
    "DISP pipe"
   ]
  },
  {
   "cell_type": "code",
   "execution_count": null,
   "id": "7e3cb5ae",
   "metadata": {},
   "outputs": [],
   "source": [
    "# leverage LLM's knowledge to make sense of the named pipe\n",
    "\n",
    "APPLY python://ask-AI ON pipe WITH prompt='What is the following pipe in Windows?', field='name'\n",
    "\n",
    "DISP pipe ATTR unmapped.gen_ai"
   ]
  },
  {
   "cell_type": "code",
   "execution_count": null,
   "id": "af19e1e5",
   "metadata": {},
   "outputs": [],
   "source": [
    "# which process created the pipe\n",
    "\n",
    "pipe_proc = FIND process CREATED pipe\n",
    "\n",
    "DISP pipe_proc"
   ]
  },
  {
   "cell_type": "code",
   "execution_count": null,
   "id": "5324beda",
   "metadata": {},
   "outputs": [],
   "source": [
    "# this could be a GoldenSAML attack\n",
    "\n",
    "# now it's time to read\n",
    "# - https://www.cyberark.com/resources/threat-research-blog/golden-saml-newly-discovered-attack-technique-forges-authentication-to-cloud-apps\n",
    "# - https://simulandlabs.com/labs/GoldenSAML/README.html\n",
    "\n",
    "# questions:\n",
    "# 1. do you find any relation between the pipe event and the connection event?\n",
    "# 2. do we have more logs of the powershell from other angles/sources?"
   ]
  },
  {
   "cell_type": "code",
   "execution_count": null,
   "id": "3e3ee64c",
   "metadata": {
    "scrolled": false
   },
   "outputs": [],
   "source": [
    "# let's check the suspicious process across another datasource: Microsoft365Defender\n",
    "\n",
    "mde_events = GET event FROM sqlalchemy://GoldenSAML-Microsoft365DefenderEvents\n",
    "             WHERE actor.process.pid = pipe_proc.pid\n",
    "               AND actor.process.endpoint.hostname = pipe_proc.endpoint.hostname\n",
    "\n",
    "DISP mde_events ATTR time, type_uid, type_name, device.hostname SORT BY time ASC"
   ]
  },
  {
   "cell_type": "code",
   "execution_count": null,
   "id": "237a8fa7",
   "metadata": {},
   "outputs": [],
   "source": [
    "# so what's searched in the LDAP searches\n",
    "\n",
    "queries = FIND query_info RESPONDED mde_events\n",
    "\n",
    "DISP queries"
   ]
  },
  {
   "cell_type": "code",
   "execution_count": null,
   "id": "ea5bd098",
   "metadata": {},
   "outputs": [],
   "source": [
    "# we found ________!!!"
   ]
  },
  {
   "cell_type": "code",
   "execution_count": null,
   "id": "375328a3",
   "metadata": {},
   "outputs": [],
   "source": [
    "# looks like defender logs has lots of useful information, let's check other activities logged here\n",
    "\n",
    "mde_all_events = GET event FROM sqlalchemy://GoldenSAML-Microsoft365DefenderEvents\n",
    "                 WHERE type_name LIKE '%'\n",
    "                 START 2021-08-02T00:00:00.000Z STOP 2021-08-03T00:00:00.000Z\n",
    "\n",
    "DISP mde_all_events ATTR time, type_uid, type_name SORT BY time ASC"
   ]
  },
  {
   "cell_type": "code",
   "execution_count": null,
   "id": "7258f599",
   "metadata": {},
   "outputs": [],
   "source": [
    "# attack impact analysis\n",
    "\n",
    "delegation_event = mde_all_events WHERE type_uid = 300501\n",
    "\n",
    "DISP delegation_event"
   ]
  },
  {
   "cell_type": "code",
   "execution_count": null,
   "id": "5f1b96ee",
   "metadata": {},
   "outputs": [],
   "source": [
    "mailaccess_event = mde_all_events WHERE type_uid = 300403\n",
    "\n",
    "accessed_mail = FIND managed_entity RESPONDED mailaccess_event\n",
    "\n",
    "DISP accessed_mail"
   ]
  },
  {
   "cell_type": "code",
   "execution_count": null,
   "id": "1476fa68",
   "metadata": {},
   "outputs": [],
   "source": [
    "# attack impact analysis and confirmation with data from other datasources\n",
    "\n",
    "aad_events = GET event FROM sqlalchemy://GoldenSAML-AADAuditEvents\n",
    "             WHERE type_name LIKE '%'\n",
    "             START 2021-08-02T00:00:00.000Z STOP 2021-08-03T00:00:00.000Z\n",
    "\n",
    "DISP aad_events ATTR time, type_uid, type_name SORT BY time ASC"
   ]
  },
  {
   "cell_type": "code",
   "execution_count": null,
   "id": "0f33f14b",
   "metadata": {},
   "outputs": [],
   "source": [
    "DISP aad_events SORT BY time ASC"
   ]
  },
  {
   "cell_type": "code",
   "execution_count": null,
   "id": "4f6dc6f9",
   "metadata": {},
   "outputs": [],
   "source": [
    "# attack impact analysis and confirmation with data from other datasources\n",
    "\n",
    "office_events = GET event FROM sqlalchemy://GoldenSAML-OfficeActivityEvents\n",
    "                WHERE type_name = mailaccess_event.type_name\n",
    "                START 2021-08-02T00:00:00.000Z STOP 2021-08-03T00:00:00.000Z\n",
    "\n",
    "DISP office_events"
   ]
  },
  {
   "cell_type": "code",
   "execution_count": null,
   "id": "022a9bf7",
   "metadata": {},
   "outputs": [],
   "source": []
  }
 ],
 "metadata": {
  "kernelspec": {
   "display_name": "Kestrel",
   "language": "kestrel",
   "name": "kestrel"
  },
  "language_info": {
   "file_extension": ".hf",
   "name": "kestrel"
  }
 },
 "nbformat": 4,
 "nbformat_minor": 5
}
