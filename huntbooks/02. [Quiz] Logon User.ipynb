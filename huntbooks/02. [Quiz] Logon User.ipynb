{
 "cells": [
  {
   "cell_type": "markdown",
   "id": "725efa8c",
   "metadata": {},
   "source": [
    "# GoldenSAML Quiz: Logon User\n",
    "\n",
    "#### Dataset\n",
    "\n",
    "- Windows Events: `sqlalchemy://GoldenSAML-WindowsEvents`\n",
    "\n",
    "The datasources will be automatically listed in the `FROM` clause of a `GET` command when pressing `tab` to auto-complete."
   ]
  },
  {
   "cell_type": "code",
   "execution_count": null,
   "id": "82fef72f",
   "metadata": {},
   "outputs": [],
   "source": [
    "# please first execute the initial step/cell of the quiz huntbook\n",
    "\n",
    "all_events = GET event FROM sqlalchemy://GoldenSAML-WindowsEvents\n",
    "             WHERE device.hostname LIKE '%.simulandlabs.com'\n",
    "             START 2021-08-02T00:00:00.000Z STOP 2021-08-03T00:00:00.000Z\n",
    "             \n",
    "DISP all_events ATTR time, type_uid, type_name, device.hostname SORT BY time ASC"
   ]
  },
  {
   "cell_type": "markdown",
   "id": "16c12331",
   "metadata": {},
   "source": [
    "### Task A: Find Logged-in Users\n",
    "\n",
    "1. Filter logon events into a new Kestrel variable (OCSF `type_uid = 300201`)\n",
    "2. Use `FIND` command to extract logon users `RESPONDED` to the events\n",
    "3. Display username (`name`), SID (`uid`), and logon hostname (`endpoint.hostname`) using `DISP` command "
   ]
  },
  {
   "cell_type": "code",
   "execution_count": null,
   "id": "959049ac",
   "metadata": {},
   "outputs": [],
   "source": []
  },
  {
   "cell_type": "markdown",
   "id": "002b3713",
   "metadata": {},
   "source": [
    "### Task B: Understand the Native Query\n",
    "\n",
    "**Prerequisite: Task A**\n",
    "\n",
    "1. Use `EXPLAIN` command on the variable of users from **Task A** to show the native query generated"
   ]
  },
  {
   "cell_type": "code",
   "execution_count": null,
   "id": "95f5d58e",
   "metadata": {},
   "outputs": [],
   "source": []
  }
 ],
 "metadata": {
  "kernelspec": {
   "display_name": "Kestrel",
   "language": "kestrel",
   "name": "kestrel"
  },
  "language_info": {
   "file_extension": ".hf",
   "name": "kestrel"
  }
 },
 "nbformat": 4,
 "nbformat_minor": 5
}
