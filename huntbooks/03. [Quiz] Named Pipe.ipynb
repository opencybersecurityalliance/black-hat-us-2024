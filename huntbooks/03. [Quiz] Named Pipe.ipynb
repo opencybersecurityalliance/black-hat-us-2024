{
 "cells": [
  {
   "cell_type": "markdown",
   "id": "725efa8c",
   "metadata": {},
   "source": [
    "# GoldenSAML Quiz: Named Pipe\n",
    "\n",
    "#### Dataset\n",
    "\n",
    "- Windows Events: `sqlalchemy://GoldenSAML-WindowsEvents`\n",
    "- MDE: `sqlalchemy://GoldenSAML-Microsoft365DefenderEvents`\n",
    "\n",
    "The datasources will be automatically listed in the `FROM` clause of a `GET` command when pressing `tab` to auto-complete."
   ]
  },
  {
   "cell_type": "markdown",
   "id": "78e85aff",
   "metadata": {},
   "source": [
    "### Task A: Get Named Pipe (File)\n",
    "\n",
    "1. Use a `GET` command to obtain named pipe with pattern `%##WID\\tsql\\query%` in `GoldenSAML-WindowsEvents`\n",
    "2. Use raw string `r'%##WID\\tsql\\query%'` to avoid escaping the special characters in the pattern\n",
    "3. Think about whether you should use `=` or `LIKE` as the operator in the `WHERE` clause\n",
    "4. Check [OCSF file doc](https://schema.ocsf.io/1.3.0/objects/file) to see which attribute to use\n",
    "5. Add a `DISP` command to display the object obtained"
   ]
  },
  {
   "cell_type": "code",
   "execution_count": null,
   "id": "82fef72f",
   "metadata": {},
   "outputs": [],
   "source": []
  },
  {
   "cell_type": "markdown",
   "id": "9fec62b7",
   "metadata": {},
   "source": [
    "### Task B: Find The Process Created The Pipe\n",
    "\n",
    "**Prerequisite: Task A**\n",
    "\n",
    "1. Use a `FIND` command to obtain processes that created the named pipe in Task A\n",
    "2. Add a `DISP` command to display the processes obtained"
   ]
  },
  {
   "cell_type": "code",
   "execution_count": null,
   "id": "8b560981",
   "metadata": {},
   "outputs": [],
   "source": []
  },
  {
   "cell_type": "markdown",
   "id": "07630b20",
   "metadata": {},
   "source": [
    "### Task C: Connect to MDE Logs Associated With the Process\n",
    "\n",
    "**Prerequisite: Task B**\n",
    "\n",
    "1. Use a `GET` command to filter `event` from the MDE logs `GoldenSAML-Microsoft365DefenderEvents`\n",
    "\n",
    "2. The events have `actor.process` that is the processes identified from **Task B**\n",
    "    - Use `actor.process.pid` as identifier to go across datasources\n",
    "    - Use `variable.pid` to refer to the value in previously executed Kestrel variable\n",
    "    - Optional: also use `device.hostname` as an additional identifier in the `WHERE` clause"
   ]
  },
  {
   "cell_type": "code",
   "execution_count": null,
   "id": "959049ac",
   "metadata": {},
   "outputs": [],
   "source": []
  },
  {
   "cell_type": "markdown",
   "id": "8622ba55",
   "metadata": {},
   "source": [
    "### Task D: Obtain Queries from the MDE Events\n",
    "\n",
    "**Prerequisite: Task C**\n",
    "\n",
    "1. Use a `FIND` command to obtain `query_info` associated with the MDE events\n",
    "2. Display the `query_info` objects"
   ]
  },
  {
   "cell_type": "code",
   "execution_count": null,
   "id": "cbd01c6d",
   "metadata": {},
   "outputs": [],
   "source": []
  }
 ],
 "metadata": {
  "kernelspec": {
   "display_name": "Kestrel",
   "language": "kestrel",
   "name": "kestrel"
  },
  "language_info": {
   "file_extension": ".hf",
   "name": "kestrel"
  }
 },
 "nbformat": 4,
 "nbformat_minor": 5
}
