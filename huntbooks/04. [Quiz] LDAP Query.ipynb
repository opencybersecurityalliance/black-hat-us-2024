{
 "cells": [
  {
   "cell_type": "markdown",
   "id": "725efa8c",
   "metadata": {},
   "source": [
    "# GoldenSAML Quiz: LDAP Query Object\n",
    "\n",
    "#### Dataset\n",
    "\n",
    "- Windows Events: `sqlalchemy://GoldenSAML-WindowsEvents`\n",
    "- MDE: `sqlalchemy://GoldenSAML-Microsoft365DefenderEvents`\n",
    "\n",
    "The datasources will be automatically listed in the `FROM` clause of a `GET` command when pressing `tab` to auto-complete."
   ]
  },
  {
   "cell_type": "code",
   "execution_count": null,
   "id": "82fef72f",
   "metadata": {},
   "outputs": [],
   "source": [
    "# init hunt step to be executed for this quiz\n",
    "\n",
    "all_events = GET event FROM sqlalchemy://GoldenSAML-WindowsEvents\n",
    "             WHERE device.hostname LIKE '%.simulandlabs.com'\n",
    "             START 2021-08-02T00:00:00.000Z STOP 2021-08-03T00:00:00.000Z\n",
    "             \n",
    "DISP all_events ATTR time, type_uid, type_name, device.hostname SORT BY time ASC"
   ]
  },
  {
   "cell_type": "markdown",
   "id": "7e601b0d",
   "metadata": {},
   "source": [
    "### Task A: Find Accessed Objects in WindowsEvents Log\n",
    "\n",
    "1. Filter object operation events into a new Kestrel variable (OCSF `type_uid = 300400`)\n",
    "2. Use `FIND` command to extract objects ([managed_entity type in OCSF](https://schema.ocsf.io/1.3.0/objects/managed_entity)) which `RESPONDED` to the events\n",
    "3. Show the details of the objects"
   ]
  },
  {
   "cell_type": "code",
   "execution_count": null,
   "id": "3ea034cd",
   "metadata": {},
   "outputs": [],
   "source": []
  },
  {
   "cell_type": "markdown",
   "id": "6b961c8c",
   "metadata": {},
   "source": [
    "### Task B: Object Access Details in MDE Log\n",
    "\n",
    "**Prerequisite: Task A**\n",
    "\n",
    "The `WindowsEvents` has very limited information on the accessed objects. Fortunately, the objects are also logged by MS Defender. Let's check the `Microsoft365DefenderEvents` log source to find more.\n",
    "\n",
    "1. Plan to search for `query_info` in `Microsoft365DefenderEvents` log source containing the id (`uid`) of the object from **Task A**\n",
    "2. `uid` from **Task A** will be searched against the `search_filter` attribute of `query_info` in this task\n",
    "3. Use `LIKE` and `%...%` to maximize the possibility of a match\n",
    "4. Copy/paste the `uid` value to construct the `GET` manually (do not point to the previous Kestrel variable since we need to add `%` around the value)\n",
    "6. Write your `GET` command followed by a `DISP`"
   ]
  },
  {
   "cell_type": "code",
   "execution_count": null,
   "id": "779c29be",
   "metadata": {},
   "outputs": [],
   "source": []
  },
  {
   "cell_type": "markdown",
   "id": "0830c042",
   "metadata": {},
   "source": [
    "### Task C: Find Event Information of The Query\n",
    "\n",
    "**Prerequisite: Task B**\n",
    "\n",
    "1. Use a `FIND` command to retrive entire events that contains the queries from **Task B** (reversed relation using `RESPONDED BY`)\n",
    "2. Display the following key attributes of the events\n",
    "    - time\n",
    "    - type_uid\n",
    "    - type_name\n",
    "    - device.hostname"
   ]
  },
  {
   "cell_type": "code",
   "execution_count": null,
   "id": "2c53483f",
   "metadata": {},
   "outputs": [],
   "source": []
  }
 ],
 "metadata": {
  "kernelspec": {
   "display_name": "Kestrel",
   "language": "kestrel",
   "name": "kestrel"
  },
  "language_info": {
   "file_extension": ".hf",
   "name": "kestrel"
  }
 },
 "nbformat": 4,
 "nbformat_minor": 5
}
