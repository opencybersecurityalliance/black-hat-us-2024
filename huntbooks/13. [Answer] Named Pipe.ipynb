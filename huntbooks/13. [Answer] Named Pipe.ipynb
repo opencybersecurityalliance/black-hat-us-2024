{
 "cells": [
  {
   "cell_type": "markdown",
   "id": "725efa8c",
   "metadata": {},
   "source": [
    "# GoldenSAML Quiz: Named Pipe\n",
    "\n",
    "#### Dataset\n",
    "\n",
    "- Windows Events: `sqlalchemy://GoldenSAML-WindowsEvents`\n",
    "- MDE: `sqlalchemy://GoldenSAML-Microsoft365DefenderEvents`\n",
    "\n",
    "The datasources will be automatically listed in the `FROM` clause of a `GET` command when pressing `tab` to auto-complete."
   ]
  },
  {
   "cell_type": "markdown",
   "id": "78e85aff",
   "metadata": {},
   "source": [
    "### Task A: Get Named Pipe (File)\n",
    "\n",
    "1. Use a `GET` command to obtain named pipe with pattern `%##WID\\tsql\\query%` in `GoldenSAML-WindowsEvents`\n",
    "2. Use raw string `r'%##WID\\tsql\\query%'` to avoid escaping the special characters in the pattern\n",
    "3. Think about whether you should use `=` or `LIKE` as the operator in the `WHERE` clause\n",
    "4. Check [OCSF file doc](https://schema.ocsf.io/1.3.0/objects/file) to see which attribute to use\n",
    "5. Add a `DISP` command to display the object obtained"
   ]
  },
  {
   "cell_type": "code",
   "execution_count": 1,
   "id": "82fef72f",
   "metadata": {},
   "outputs": [
    {
     "data": {
      "text/html": [
       "<table border=\"1\" class=\"dataframe\">\n",
       "  <thead>\n",
       "    <tr style=\"text-align: right;\">\n",
       "      <th>endpoint.hostname</th>\n",
       "      <th>endpoint.uid</th>\n",
       "      <th>name</th>\n",
       "      <th>type_id</th>\n",
       "    </tr>\n",
       "  </thead>\n",
       "  <tbody>\n",
       "    <tr>\n",
       "      <td>adfs01.simulandlabs.com</td>\n",
       "      <td>/subscriptions/00000000-0000-0000-0000-000000000000/resourcegroups/azhybrid/providers/microsoft.compute/virtualmachines/adfs01</td>\n",
       "      <td>\\MICROSOFT##WID\\tsql\\query</td>\n",
       "      <td>6</td>\n",
       "    </tr>\n",
       "  </tbody>\n",
       "</table>"
      ]
     },
     "metadata": {},
     "output_type": "display_data"
    }
   ],
   "source": [
    "wid_named_pipe = GET file FROM sqlalchemy://GoldenSAML-WindowsEvents\n",
    "                 WHERE name LIKE r'%##WID\\tsql\\query%'\n",
    "                    \n",
    "DISP wid_named_pipe"
   ]
  },
  {
   "cell_type": "markdown",
   "id": "9fec62b7",
   "metadata": {},
   "source": [
    "### Task B: Find The Process Created The Pipe\n",
    "\n",
    "**Prerequisite: Task A**\n",
    "\n",
    "1. Use a `FIND` command to obtain processes that created the named pipe in Task A\n",
    "2. Add a `DISP` command to display the processes obtained"
   ]
  },
  {
   "cell_type": "code",
   "execution_count": 2,
   "id": "8b560981",
   "metadata": {},
   "outputs": [
    {
     "data": {
      "text/html": [
       "<table border=\"1\" class=\"dataframe\">\n",
       "  <thead>\n",
       "    <tr style=\"text-align: right;\">\n",
       "      <th>endpoint.hostname</th>\n",
       "      <th>endpoint.uid</th>\n",
       "      <th>name</th>\n",
       "      <th>file.name</th>\n",
       "      <th>file.path</th>\n",
       "      <th>file.parent_folder</th>\n",
       "      <th>pid</th>\n",
       "      <th>uid</th>\n",
       "    </tr>\n",
       "  </thead>\n",
       "  <tbody>\n",
       "    <tr>\n",
       "      <td>adfs01.simulandlabs.com</td>\n",
       "      <td>/subscriptions/00000000-0000-0000-0000-000000000000/resourcegroups/azhybrid/providers/microsoft.compute/virtualmachines/adfs01</td>\n",
       "      <td>powershell.exe</td>\n",
       "      <td>powershell.exe</td>\n",
       "      <td>C:\\Windows\\System32\\WindowsPowerShell\\v1.0\\powershell.exe</td>\n",
       "      <td>C:\\Windows\\System32\\WindowsPowerShell\\v1.0</td>\n",
       "      <td>5692</td>\n",
       "      <td>9acedb82-ccd4-6107-22de-030000000600</td>\n",
       "    </tr>\n",
       "  </tbody>\n",
       "</table>"
      ]
     },
     "metadata": {},
     "output_type": "display_data"
    }
   ],
   "source": [
    "reader = FIND process CREATED wid_named_pipe\n",
    "\n",
    "DISP reader"
   ]
  },
  {
   "cell_type": "markdown",
   "id": "07630b20",
   "metadata": {},
   "source": [
    "### Task C: Connect to MDE Logs Associated With the Process\n",
    "\n",
    "**Prerequisite: Task B**\n",
    "\n",
    "1. Use a `GET` command to filter `event` from the MDE logs `GoldenSAML-Microsoft365DefenderEvents`\n",
    "\n",
    "2. The events have `actor.process` that is the processes identified from **Task B**\n",
    "    - Use `actor.process.pid` as identifier to go across datasources\n",
    "    - Use `variable.pid` to refer to the value in previously executed Kestrel variable\n",
    "    - Optional: also use `device.hostname` as an additional identifier in the `WHERE` clause"
   ]
  },
  {
   "cell_type": "code",
   "execution_count": 3,
   "id": "959049ac",
   "metadata": {},
   "outputs": [],
   "source": [
    "mde_events = GET event\n",
    "             FROM sqlalchemy://GoldenSAML-Microsoft365DefenderEvents\n",
    "             WHERE actor.process.pid = reader.pid\n",
    "               AND device.hostname = reader.endpoint.hostname"
   ]
  },
  {
   "cell_type": "markdown",
   "id": "8622ba55",
   "metadata": {},
   "source": [
    "### Task D: Obtain Queries from the MDE Events\n",
    "\n",
    "**Prerequisite: Task C**\n",
    "\n",
    "1. Use a `FIND` command to obtain `query_info` associated with the MDE events\n",
    "2. Display the `query_info` objects"
   ]
  },
  {
   "cell_type": "code",
   "execution_count": 4,
   "id": "cbd01c6d",
   "metadata": {},
   "outputs": [
    {
     "data": {
      "text/html": [
       "<table border=\"1\" class=\"dataframe\">\n",
       "  <thead>\n",
       "    <tr style=\"text-align: right;\">\n",
       "      <th>uid</th>\n",
       "      <th>attr_list</th>\n",
       "      <th>search_filter</th>\n",
       "    </tr>\n",
       "  </thead>\n",
       "  <tbody>\n",
       "    <tr>\n",
       "      <td>113597</td>\n",
       "      <td>[\"objectClass\"]</td>\n",
       "      <td>(objectClass=*)</td>\n",
       "    </tr>\n",
       "    <tr>\n",
       "      <td>113598</td>\n",
       "      <td>[\"thumbnailphoto\"]</td>\n",
       "      <td>(&amp;(objectclass=contact)(!name=CryptoPolicy)(ThumbnailPhoto=*))</td>\n",
       "    </tr>\n",
       "    <tr>\n",
       "      <td>113608</td>\n",
       "      <td>[\"\"]</td>\n",
       "      <td>(name=CryptoPolicy)</td>\n",
       "    </tr>\n",
       "    <tr>\n",
       "      <td>113616</td>\n",
       "      <td>[\"thumbnailphoto\"]</td>\n",
       "      <td>(l=9736f74f-fd37-4b02-80e8-8120a72ad6c2)</td>\n",
       "    </tr>\n",
       "    <tr>\n",
       "      <td>113771</td>\n",
       "      <td>[\"\"]</td>\n",
       "      <td>(&amp;(objectCategory=user)(memberOf=CN=Domain Admins,CN=Users,DC=simulandlabs,DC=com))</td>\n",
       "    </tr>\n",
       "  </tbody>\n",
       "</table>"
      ]
     },
     "metadata": {},
     "output_type": "display_data"
    }
   ],
   "source": [
    "queries = FIND query_info RESPONDED mde_events\n",
    "\n",
    "DISP queries"
   ]
  }
 ],
 "metadata": {
  "kernelspec": {
   "display_name": "Kestrel",
   "language": "kestrel",
   "name": "kestrel"
  },
  "language_info": {
   "file_extension": ".hf",
   "name": "kestrel"
  }
 },
 "nbformat": 4,
 "nbformat_minor": 5
}
